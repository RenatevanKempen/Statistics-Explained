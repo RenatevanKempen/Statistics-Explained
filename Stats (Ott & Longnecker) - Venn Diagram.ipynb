{
 "cells": [
  {
   "cell_type": "markdown",
   "metadata": {},
   "source": [
    "# Venn Diagram"
   ]
  },
  {
   "cell_type": "markdown",
   "metadata": {},
   "source": [
    "A Venn diagram (also called primary diagram, set diagram or logic diagram) is a diagram that shows all possible logical relations between a finite collection of different sets. Each set is represented by a circle. \n",
    "\n",
    "The circle size represents the importance of the group. The groups are usually overlapping: the size of the overlap represents the intersection between both groups. "
   ]
  },
  {
   "cell_type": "code",
   "execution_count": 1,
   "metadata": {},
   "outputs": [
    {
     "name": "stdout",
     "output_type": "stream",
     "text": [
      "Collecting matplotlib-venn\n",
      "  Downloading https://files.pythonhosted.org/packages/c7/05/e084c8331ff7ab8b0e01c7cdb7c18854852340bf3096193510c902ffa1f1/matplotlib-venn-0.11.5.zip (40kB)\n",
      "Requirement already satisfied: matplotlib in c:\\users\\renate\\anaconda3\\anaconda\\lib\\site-packages (from matplotlib-venn) (3.0.3)\n",
      "Requirement already satisfied: numpy in c:\\users\\renate\\anaconda3\\anaconda\\lib\\site-packages (from matplotlib-venn) (1.16.2)\n",
      "Requirement already satisfied: scipy in c:\\users\\renate\\anaconda3\\anaconda\\lib\\site-packages (from matplotlib-venn) (1.2.1)\n",
      "Requirement already satisfied: cycler>=0.10 in c:\\users\\renate\\anaconda3\\anaconda\\lib\\site-packages (from matplotlib->matplotlib-venn) (0.10.0)\n",
      "Requirement already satisfied: kiwisolver>=1.0.1 in c:\\users\\renate\\anaconda3\\anaconda\\lib\\site-packages (from matplotlib->matplotlib-venn) (1.0.1)\n",
      "Requirement already satisfied: pyparsing!=2.0.4,!=2.1.2,!=2.1.6,>=2.0.1 in c:\\users\\renate\\anaconda3\\anaconda\\lib\\site-packages (from matplotlib->matplotlib-venn) (2.3.1)\n",
      "Requirement already satisfied: python-dateutil>=2.1 in c:\\users\\renate\\anaconda3\\anaconda\\lib\\site-packages (from matplotlib->matplotlib-venn) (2.8.0)\n",
      "Requirement already satisfied: six in c:\\users\\renate\\anaconda3\\anaconda\\lib\\site-packages (from cycler>=0.10->matplotlib->matplotlib-venn) (1.12.0)\n",
      "Requirement already satisfied: setuptools in c:\\users\\renate\\anaconda3\\anaconda\\lib\\site-packages (from kiwisolver>=1.0.1->matplotlib->matplotlib-venn) (40.8.0)\n",
      "Building wheels for collected packages: matplotlib-venn\n",
      "  Building wheel for matplotlib-venn (setup.py): started\n",
      "  Building wheel for matplotlib-venn (setup.py): finished with status 'done'\n",
      "  Stored in directory: C:\\Users\\Renate\\AppData\\Local\\pip\\Cache\\wheels\\d8\\88\\2f\\e41518cb16e58109e8d14dc5dd7ef8166c82dce86c7c6d6c80\n",
      "Successfully built matplotlib-venn\n",
      "Installing collected packages: matplotlib-venn\n",
      "Successfully installed matplotlib-venn-0.11.5\n"
     ]
    }
   ],
   "source": [
    "#First we need to install the Venn package from Matplotlib.\n",
    "!pip install matplotlib-venn"
   ]
  },
  {
   "cell_type": "code",
   "execution_count": 6,
   "metadata": {},
   "outputs": [],
   "source": [
    "#Now, let's import the required libraries\n",
    "import numpy as np\n",
    "import scipy\n",
    "import matplotlib.pyplot as plt\n",
    "from matplotlib_venn import venn2, venn2_circles\n",
    "from matplotlib_venn import venn3, venn3_circles"
   ]
  },
  {
   "cell_type": "markdown",
   "metadata": {},
   "source": [
    "Okay, let's create our first 2 circle VENN diagram"
   ]
  },
  {
   "cell_type": "code",
   "execution_count": 32,
   "metadata": {},
   "outputs": [
    {
     "data": {
      "text/plain": [
       "<matplotlib_venn._common.VennDiagram at 0x2566ab8f470>"
      ]
     },
     "execution_count": 32,
     "metadata": {},
     "output_type": "execute_result"
    },
    {
     "data": {
      "image/png": "[encoded data removed]",
      "text/plain": [
       "<Figure size 432x288 with 1 Axes>"
      ]
     },
     "metadata": {},
     "output_type": "display_data"
    }
   ],
   "source": [
    "#Create a simple Venn Diagram with 2 circles. \n",
    "#'A' probability is .45\n",
    "#'B' probability is .15\n",
    "#the intersection is .05\n",
    "venn2(subsets = (.45, .15, .05), set_labels = ('A', 'B'))\n"
   ]
  },
  {
   "cell_type": "markdown",
   "metadata": {},
   "source": [
    "Okay, now let's customize this diagram "
   ]
  },
  {
   "cell_type": "code",
   "execution_count": 99,
   "metadata": {},
   "outputs": [
    {
     "data": {
      "image/png": "[encoded data removed]",
      "text/plain": [
       "<Figure size 432x288 with 1 Axes>"
      ]
     },
     "metadata": {},
     "output_type": "display_data"
    }
   ],
   "source": [
    "#Create a simple Venn Diagram with 2 circles. \n",
    "#'A' probability is .45\n",
    "#'B' probability is .15\n",
    "#the intersection is .05\n",
    "\n",
    "v = venn2(subsets = (.45, .15, .05), set_labels = ('',''))\n",
    "#by changing the labels to empty strings, we remove the labels under the circles\n",
    "\n",
    "# Custom it\n",
    "#venn2_circles overlays the venn2 diagram\n",
    "c=venn2_circles(subsets = (.45,.15, .05), linestyle='dotted', linewidth=1, color=\"grey\")\n",
    "\n",
    "#now let's set the colors \n",
    "c[0].set_lw(8.0)\n",
    "c[0].set_ls('dotted')\n",
    "c[0].set_color('blue')\n",
    "c[0].set_alpha(0.5) #this means that the blue color is more transparent (default = 1)\n",
    "c[1].set_color('green')\n",
    "c[1].set_alpha(0.3)\n",
    "\n",
    "# Change Backgroud\n",
    "plt.gca().set_facecolor('gray')\n",
    "plt.gca().set_axis_on()\n",
    "\n",
    "plt.title(\"Sample Venn diagram\")\n",
    "plt.annotate('A', xy=v.get_label_by_id('100').get_position() - np.array([0, -0.15]), xytext=(3,3),\n",
    "ha='center', textcoords='offset points', bbox=dict(boxstyle='round,pad=0.5', fc='blue', alpha=0.5))\n",
    "plt.annotate('B', xy=v.get_label_by_id('010').get_position() - np.array([0.1, -0.15]), xytext=(3,3),\n",
    "ha='center', textcoords='offset points', bbox=dict(boxstyle='round,pad=0.5', fc='blue', alpha=0.5))\n",
    "#,arrowprops=dict(arrowstyle='->', connectionstyle='arc3,rad=0.5',color='gray'))\n",
    " \n",
    " \n",
    "# Show it\n",
    "plt.show()"
   ]
  },
  {
   "cell_type": "markdown",
   "metadata": {},
   "source": [
    "Great, now we have customized the diagram, let's continue with an assignment for a probability calculation"
   ]
  },
  {
   "cell_type": "markdown",
   "metadata": {},
   "source": [
    "# Assignment:\n",
    "Compute the following probabilities:\n",
    "- $P(A)$ = probability that A occurs, $P({\\bar A})$ = probability that A doesn't occur\n",
    "- $P(B)$, $P({\\bar B})$\n",
    "- $P(A \\bigcap B)$ = the intersection\n",
    "- $P(A \\bigcup B)$ = the union"
   ]
  },
  {
   "cell_type": "markdown",
   "metadata": {},
   "source": [
    "# Solution:"
   ]
  },
  {
   "cell_type": "markdown",
   "metadata": {},
   "source": [
    "- $P(A)$ = .45 (=.5 when rounded, we will use this for the union)\n",
    "- $P({\\bar A})$ = 1-$P(A)$ = 1 - .45 = .55\n",
    "- $P(B)$ = .15 (=.2 when rounded, we will use this for the union)\n",
    "- $P({\\bar B})$ = 1-$P(B)$ = 1 - .15 = .85\n",
    "- $P(A \\bigcap B)$ = .05\n",
    "- $P(A \\bigcup B)$ = $P(A) + P(B) - P(A \\bigcap B)$ = .5 + .2 + .05 = .65"
   ]
  }
 ],
 "metadata": {
  "kernelspec": {
   "display_name": "Python 3",
   "language": "python",
   "name": "python3"
  },
  "language_info": {
   "codemirror_mode": {
    "name": "ipython",
    "version": 3
   },
   "file_extension": ".py",
   "mimetype": "text/x-python",
   "name": "python",
   "nbconvert_exporter": "python",
   "pygments_lexer": "ipython3",
   "version": "3.7.3"
  }
 },
 "nbformat": 4,
 "nbformat_minor": 2
}
