{
 "cells": [
  {
   "cell_type": "markdown",
   "metadata": {},
   "source": [
    "# Eigenvector and eigenvalues explained"
   ]
  },
  {
   "cell_type": "markdown",
   "metadata": {},
   "source": [
    "Original article by Farhad Malik\n",
    "\n",
    "https://medium.com/fintechexplained/what-are-eigenvalues-and-eigenvectors-a-must-know-concept-for-machine-learning-80d0fd330e47"
   ]
  },
  {
   "cell_type": "markdown",
   "metadata": {},
   "source": [
    "## General:\n",
    "\n",
    "* Vector = a list of numbers, every vector has a direction when plotted on a XY chart\n",
    "* Eigenvector = those vectors that when a linear transformation is performed on them, then their direction does not change\n",
    "* Eigenvalue = the scalar that is used to transform (stretch) an Eigenvector"
   ]
  },
  {
   "cell_type": "markdown",
   "metadata": {},
   "source": [
    "## Why?\n",
    "\n",
    "They are used to:\n",
    "* Reduce noice in data\n",
    "* Help us improve efficiency in computationally intensive tasks\n",
    "* Eliminate features that have a strong correlation between them\n",
    "* Help in reducing over-fitting"
   ]
  },
  {
   "cell_type": "markdown",
   "metadata": {},
   "source": [
    "## Key concepts:\n",
    "Eigenvalues and Eigenvectors have the following components:\n",
    "* A matrix has the size of X rows and Y columns\n",
    "* A square matrix is the one which has a size of n, implying the X and Y are equal- represented by A\n",
    "* The eigenvector is an array with n entries where n is the number of rows (or columns) of a square matrix (a non-null vector) - represented by x\n",
    "* Eigenvalues are number of values such that A * x - lambda * x = 0 - represented by lambda\n",
    "* Identitity matrix, which is a square matrix in which the value 1 is in the diagonal and all other elements are 0 - represented by I\n",
    "* The determinant of a matrix, which is a number that is computed from a square matrix. This needs to be 0. \n",
    "Determinant(A - lambda * I)=0"
   ]
  },
  {
   "cell_type": "markdown",
   "metadata": {},
   "source": [
    "### Identity matrix\n",
    "\n"
   ]
  },
  {
   "cell_type": "code",
   "execution_count": 6,
   "metadata": {},
   "outputs": [
    {
     "name": "stdout",
     "output_type": "stream",
     "text": [
      "[[1 0]\n",
      " [0 1]]\n"
     ]
    }
   ],
   "source": [
    "import numpy as np\n",
    "identity_matrix = np.array([[1,0], [0,1]])\n",
    "print (identity_matrix)"
   ]
  },
  {
   "cell_type": "markdown",
   "metadata": {},
   "source": [
    "A * x - lambda * x = 0 is equal to (A - lambda * I) * x = 0"
   ]
  },
  {
   "cell_type": "markdown",
   "metadata": {},
   "source": [
    "## Calculate Eigenvalues and Eigenvector"
   ]
  },
  {
   "cell_type": "markdown",
   "metadata": {},
   "source": [
    "A * Eigenvector - Eigenvalue * Eigenvector = 0\n",
    "* *Eigenvalue = find lambda such that Determinant (A - lambda * I)=0*\n",
    "* *Eigenvector = using Gaussian Elimination = converting the matrix to row echelon form*"
   ]
  },
  {
   "cell_type": "markdown",
   "metadata": {},
   "source": [
    "## Code for calculating Eigenvalues and Eigenvectors (Python)"
   ]
  },
  {
   "cell_type": "markdown",
   "metadata": {},
   "source": [
    "Use the numpy.linalg.eig module. It takes in a square matrix as the input and returns Eigenvalues and Eigenvectors. It also raises an LinAlgError is the eigenvalue computation does not converge. "
   ]
  },
  {
   "cell_type": "code",
   "execution_count": 8,
   "metadata": {},
   "outputs": [
    {
     "name": "stdout",
     "output_type": "stream",
     "text": [
      "[2.5+1.93649167j 2.5-1.93649167j] [[-0.1118034 +0.4330127j -0.1118034 -0.4330127j]\n",
      " [ 0.89442719+0.j         0.89442719-0.j       ]]\n"
     ]
    }
   ],
   "source": [
    "from numpy import linalg as LA\n",
    "x = np.array([[2,-1], [4,3]])\n",
    "w,v = LA.eig(x)\n",
    "print(w,v)"
   ]
  },
  {
   "cell_type": "code",
   "execution_count": null,
   "metadata": {},
   "outputs": [],
   "source": []
  }
 ],
 "metadata": {
  "celltoolbar": "Raw Cell Format",
  "kernelspec": {
   "display_name": "Python 3",
   "language": "python",
   "name": "python3"
  },
  "language_info": {
   "codemirror_mode": {
    "name": "ipython",
    "version": 3
   },
   "file_extension": ".py",
   "mimetype": "text/x-python",
   "name": "python",
   "nbconvert_exporter": "python",
   "pygments_lexer": "ipython3",
   "version": "3.7.3"
  }
 },
 "nbformat": 4,
 "nbformat_minor": 2
}
