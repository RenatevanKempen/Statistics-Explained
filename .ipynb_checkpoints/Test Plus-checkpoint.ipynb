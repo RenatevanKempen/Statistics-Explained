{
 "cells": [
  {
   "cell_type": "code",
   "execution_count": 1,
   "metadata": {
    "execution_event_id": "e5d509fd-aa5d-4419-994c-54a0c3a966aa",
    "last_executed_text": "import pandas as pd\nimport matplotlib.pyplot as plt\nimport numpy as np",
    "persistent_id": "42f685fa-330b-48d5-b351-4da9baa7045f"
   },
   "outputs": [],
   "source": [
    "import pandas as pd\n",
    "import matplotlib.pyplot as plt\n",
    "import numpy as np"
   ]
  },
  {
   "cell_type": "code",
   "execution_count": 5,
   "metadata": {
    "execution_event_id": "0790446e-7b5b-4343-a3aa-5d130f7369ef",
    "last_executed_text": "gehakt = pd.read_csv(r'C:\\Users\\Renate\\OneDrive\\Documenten\\Baime\\Projecten\\Project Plus Guido van Dijck\\BESTANDEN PLUS NL\\verkooptransacties rundergehakt.csv', \n                     sep= \";\", error_bad_lines=False)\ngehakt.head()",
    "persistent_id": "497b80bb-0f25-454a-ad34-861d82e7fa46"
   },
   "outputs": [
    {
     "data": {
      "text/html": [
       "<div>\n",
       "<style scoped>\n",
       "    .dataframe tbody tr th:only-of-type {\n",
       "        vertical-align: middle;\n",
       "    }\n",
       "\n",
       "    .dataframe tbody tr th {\n",
       "        vertical-align: top;\n",
       "    }\n",
       "\n",
       "    .dataframe thead th {\n",
       "        text-align: right;\n",
       "    }\n",
       "</style>\n",
       "<table border=\"1\" class=\"dataframe\">\n",
       "  <thead>\n",
       "    <tr style=\"text-align: right;\">\n",
       "      <th></th>\n",
       "      <th>DEWNKNR</th>\n",
       "      <th>DEKASNR</th>\n",
       "      <th>DETRANR</th>\n",
       "      <th>DEVLGNR</th>\n",
       "      <th>DESVGNR</th>\n",
       "      <th>DEKTRNR</th>\n",
       "      <th>DEVRKTY</th>\n",
       "      <th>DETRRTY</th>\n",
       "      <th>DEOMSCH</th>\n",
       "      <th>DEAANTL</th>\n",
       "      <th>...</th>\n",
       "      <th>DECRENR</th>\n",
       "      <th>DEWNKPB</th>\n",
       "      <th>DEPRONB</th>\n",
       "      <th>DEAANTB</th>\n",
       "      <th>DEINKWD</th>\n",
       "      <th>DEMUTUS</th>\n",
       "      <th>DEMUTDT</th>\n",
       "      <th>DEWNKPV</th>\n",
       "      <th>DEPRONV</th>\n",
       "      <th>DEINKWD_TEST</th>\n",
       "    </tr>\n",
       "  </thead>\n",
       "  <tbody>\n",
       "    <tr>\n",
       "      <th>199</th>\n",
       "      <td>5</td>\n",
       "      <td>2340749</td>\n",
       "      <td>13</td>\n",
       "      <td>0</td>\n",
       "      <td>2086757985870315719</td>\n",
       "      <td>1</td>\n",
       "      <td>1</td>\n",
       "      <td>RUNDERGEHAKT</td>\n",
       "      <td>516</td>\n",
       "      <td>3,81</td>\n",
       "      <td>...</td>\n",
       "      <td>99999</td>\n",
       "      <td>117218</td>\n",
       "      <td>0,516</td>\n",
       "      <td>1,811</td>\n",
       "      <td>BO_FIB_SNG_12</td>\n",
       "      <td>25-5-2020 09:28:26</td>\n",
       "      <td>99999</td>\n",
       "      <td>117218</td>\n",
       "      <td>NaN</td>\n",
       "      <td>NaN</td>\n",
       "    </tr>\n",
       "    <tr>\n",
       "      <th>199</th>\n",
       "      <td>6</td>\n",
       "      <td>2139514</td>\n",
       "      <td>5</td>\n",
       "      <td>0</td>\n",
       "      <td>2082011462892716231</td>\n",
       "      <td>1</td>\n",
       "      <td>1</td>\n",
       "      <td>RUNDERGEHAKT</td>\n",
       "      <td>606</td>\n",
       "      <td>4,47</td>\n",
       "      <td>...</td>\n",
       "      <td>99999</td>\n",
       "      <td>117218</td>\n",
       "      <td>0,606</td>\n",
       "      <td>2,127</td>\n",
       "      <td>BO_FIB_SNG_12</td>\n",
       "      <td>12-5-2020 14:29:13</td>\n",
       "      <td>99999</td>\n",
       "      <td>117218</td>\n",
       "      <td>NaN</td>\n",
       "      <td>NaN</td>\n",
       "    </tr>\n",
       "    <tr>\n",
       "      <th>199</th>\n",
       "      <td>12</td>\n",
       "      <td>155322</td>\n",
       "      <td>36</td>\n",
       "      <td>0</td>\n",
       "      <td>2079676740145643719</td>\n",
       "      <td>1</td>\n",
       "      <td>1</td>\n",
       "      <td>RUNDERGEHAKT</td>\n",
       "      <td>592</td>\n",
       "      <td>3,14</td>\n",
       "      <td>...</td>\n",
       "      <td>99999</td>\n",
       "      <td>117218</td>\n",
       "      <td>0,592</td>\n",
       "      <td>2,078</td>\n",
       "      <td>BO_FIB_BLK_12</td>\n",
       "      <td>6-5-2020 07:29:52</td>\n",
       "      <td>99999</td>\n",
       "      <td>117218</td>\n",
       "      <td>NaN</td>\n",
       "      <td>NaN</td>\n",
       "    </tr>\n",
       "    <tr>\n",
       "      <th>199</th>\n",
       "      <td>12</td>\n",
       "      <td>155584</td>\n",
       "      <td>58</td>\n",
       "      <td>0</td>\n",
       "      <td>2080058000131096775</td>\n",
       "      <td>1</td>\n",
       "      <td>1</td>\n",
       "      <td>RUNDERGEHAKT</td>\n",
       "      <td>577</td>\n",
       "      <td>3,06</td>\n",
       "      <td>...</td>\n",
       "      <td>99999</td>\n",
       "      <td>117218</td>\n",
       "      <td>0,577</td>\n",
       "      <td>2,025</td>\n",
       "      <td>BO_FIB_BLK_12</td>\n",
       "      <td>7-5-2020 08:08:52</td>\n",
       "      <td>99999</td>\n",
       "      <td>117218</td>\n",
       "      <td>NaN</td>\n",
       "      <td>NaN</td>\n",
       "    </tr>\n",
       "    <tr>\n",
       "      <th>199</th>\n",
       "      <td>12</td>\n",
       "      <td>157812</td>\n",
       "      <td>76</td>\n",
       "      <td>0</td>\n",
       "      <td>2084190304097140935</td>\n",
       "      <td>1</td>\n",
       "      <td>1</td>\n",
       "      <td>RUNDERGEHAKT</td>\n",
       "      <td>522</td>\n",
       "      <td>3,85</td>\n",
       "      <td>...</td>\n",
       "      <td>99999</td>\n",
       "      <td>117218</td>\n",
       "      <td>0,522</td>\n",
       "      <td>1,832</td>\n",
       "      <td>BO_FIB_SNG_12</td>\n",
       "      <td>18-5-2020 11:24:58</td>\n",
       "      <td>99999</td>\n",
       "      <td>117218</td>\n",
       "      <td>NaN</td>\n",
       "      <td>NaN</td>\n",
       "    </tr>\n",
       "  </tbody>\n",
       "</table>\n",
       "<p>5 rows × 64 columns</p>\n",
       "</div>"
      ],
      "text/plain": [
       "     DEWNKNR  DEKASNR  DETRANR  DEVLGNR              DESVGNR  DEKTRNR  \\\n",
       "199        5  2340749       13        0  2086757985870315719        1   \n",
       "199        6  2139514        5        0  2082011462892716231        1   \n",
       "199       12   155322       36        0  2079676740145643719        1   \n",
       "199       12   155584       58        0  2080058000131096775        1   \n",
       "199       12   157812       76        0  2084190304097140935        1   \n",
       "\n",
       "     DEVRKTY       DETRRTY  DEOMSCH DEAANTL  ... DECRENR DEWNKPB  DEPRONB  \\\n",
       "199        1  RUNDERGEHAKT      516    3,81  ...   99999  117218    0,516   \n",
       "199        1  RUNDERGEHAKT      606    4,47  ...   99999  117218    0,606   \n",
       "199        1  RUNDERGEHAKT      592    3,14  ...   99999  117218    0,592   \n",
       "199        1  RUNDERGEHAKT      577    3,06  ...   99999  117218    0,577   \n",
       "199        1  RUNDERGEHAKT      522    3,85  ...   99999  117218    0,522   \n",
       "\n",
       "     DEAANTB        DEINKWD             DEMUTUS  DEMUTDT  DEWNKPV  DEPRONV  \\\n",
       "199    1,811  BO_FIB_SNG_12  25-5-2020 09:28:26    99999   117218      NaN   \n",
       "199    2,127  BO_FIB_SNG_12  12-5-2020 14:29:13    99999   117218      NaN   \n",
       "199    2,078  BO_FIB_BLK_12   6-5-2020 07:29:52    99999   117218      NaN   \n",
       "199    2,025  BO_FIB_BLK_12   7-5-2020 08:08:52    99999   117218      NaN   \n",
       "199    1,832  BO_FIB_SNG_12  18-5-2020 11:24:58    99999   117218      NaN   \n",
       "\n",
       "     DEINKWD_TEST  \n",
       "199           NaN  \n",
       "199           NaN  \n",
       "199           NaN  \n",
       "199           NaN  \n",
       "199           NaN  \n",
       "\n",
       "[5 rows x 64 columns]"
      ]
     },
     "execution_count": 5,
     "metadata": {},
     "output_type": "execute_result"
    }
   ],
   "source": [
    "gehakt = pd.read_csv(r'C:\\Users\\Renate\\OneDrive\\Documenten\\Baime\\Projecten\\Project Plus Guido van Dijck\\BESTANDEN PLUS NL\\verkooptransacties rundergehakt.csv', \n",
    "                     sep= \";\", error_bad_lines=False)\n",
    "gehakt.head()"
   ]
  },
  {
   "cell_type": "code",
   "execution_count": null,
   "metadata": {},
   "outputs": [],
   "source": []
  }
 ],
 "metadata": {
  "history": [
   {
    "cell": {
     "executionCount": 1,
     "executionEventId": "e5d509fd-aa5d-4419-994c-54a0c3a966aa",
     "hasError": false,
     "id": "1f83f2ff-b418-4a3f-a969-bbd44a476444",
     "outputs": [],
     "persistentId": "42f685fa-330b-48d5-b351-4da9baa7045f",
     "text": "import pandas as pd\nimport matplotlib.pyplot as plt\nimport numpy as np"
    },
    "executionTime": "2020-06-09T10:48:22.253Z"
   },
   {
    "cell": {
     "executionCount": 2,
     "executionEventId": "aef203a9-0287-44b6-b358-2251be7c099e",
     "hasError": true,
     "id": "abea8f74-b3ad-417c-9680-bbd022844c48",
     "outputs": [
      {
       "ename": "SyntaxError",
       "evalue": "(unicode error) 'unicodeescape' codec can't decode bytes in position 2-3: truncated \\UXXXXXXXX escape (<ipython-input-2-3e45830e04d0>, line 1)",
       "output_type": "error",
       "traceback": [
        "\u001b[1;36m  File \u001b[1;32m\"<ipython-input-2-3e45830e04d0>\"\u001b[1;36m, line \u001b[1;32m1\u001b[0m\n\u001b[1;33m    gehakt = pd.read_csv('C:\\Users\\Renate\\OneDrive\\Documenten\\Baime\\Projecten\\Project Plus Guido van Dijck\\BESTANDEN PLUS NL\\verkooptransacties rundergehakt.csv')\u001b[0m\n\u001b[1;37m                        ^\u001b[0m\n\u001b[1;31mSyntaxError\u001b[0m\u001b[1;31m:\u001b[0m (unicode error) 'unicodeescape' codec can't decode bytes in position 2-3: truncated \\UXXXXXXXX escape\n"
       ]
      }
     ],
     "persistentId": "497b80bb-0f25-454a-ad34-861d82e7fa46",
     "text": "gehakt = pd.read_csv('C:\\Users\\Renate\\OneDrive\\Documenten\\Baime\\Projecten\\Project Plus Guido van Dijck\\BESTANDEN PLUS NL\\verkooptransacties rundergehakt.csv')\ngehakt.head()"
    },
    "executionTime": "2020-06-09T10:51:54.702Z"
   },
   {
    "cell": {
     "executionCount": 3,
     "executionEventId": "c0820f86-1711-4035-83ed-6e592a9d0b95",
     "hasError": true,
     "id": "abea8f74-b3ad-417c-9680-bbd022844c48",
     "outputs": [
      {
       "ename": "ParserError",
       "evalue": "Error tokenizing data. C error: Expected 10 fields in line 4, saw 11\n",
       "output_type": "error",
       "traceback": [
        "\u001b[1;31m---------------------------------------------------------------------------\u001b[0m",
        "\u001b[1;31mParserError\u001b[0m                               Traceback (most recent call last)",
        "\u001b[1;32m<ipython-input-3-4d989aff2aea>\u001b[0m in \u001b[0;36m<module>\u001b[1;34m\u001b[0m\n\u001b[1;32m----> 1\u001b[1;33m \u001b[0mgehakt\u001b[0m \u001b[1;33m=\u001b[0m \u001b[0mpd\u001b[0m\u001b[1;33m.\u001b[0m\u001b[0mread_csv\u001b[0m\u001b[1;33m(\u001b[0m\u001b[1;34mr'C:\\Users\\Renate\\OneDrive\\Documenten\\Baime\\Projecten\\Project Plus Guido van Dijck\\BESTANDEN PLUS NL\\verkooptransacties rundergehakt.csv'\u001b[0m\u001b[1;33m)\u001b[0m\u001b[1;33m\u001b[0m\u001b[1;33m\u001b[0m\u001b[0m\n\u001b[0m\u001b[0;32m      2\u001b[0m \u001b[0mgehakt\u001b[0m\u001b[1;33m.\u001b[0m\u001b[0mhead\u001b[0m\u001b[1;33m(\u001b[0m\u001b[1;33m)\u001b[0m\u001b[1;33m\u001b[0m\u001b[1;33m\u001b[0m\u001b[0m\n",
        "\u001b[1;32m~\\Anaconda3\\ANACONDA\\lib\\site-packages\\pandas\\io\\parsers.py\u001b[0m in \u001b[0;36mparser_f\u001b[1;34m(filepath_or_buffer, sep, delimiter, header, names, index_col, usecols, squeeze, prefix, mangle_dupe_cols, dtype, engine, converters, true_values, false_values, skipinitialspace, skiprows, skipfooter, nrows, na_values, keep_default_na, na_filter, verbose, skip_blank_lines, parse_dates, infer_datetime_format, keep_date_col, date_parser, dayfirst, cache_dates, iterator, chunksize, compression, thousands, decimal, lineterminator, quotechar, quoting, doublequote, escapechar, comment, encoding, dialect, error_bad_lines, warn_bad_lines, delim_whitespace, low_memory, memory_map, float_precision)\u001b[0m\n\u001b[0;32m    674\u001b[0m         )\n\u001b[0;32m    675\u001b[0m \u001b[1;33m\u001b[0m\u001b[0m\n\u001b[1;32m--> 676\u001b[1;33m         \u001b[1;32mreturn\u001b[0m \u001b[0m_read\u001b[0m\u001b[1;33m(\u001b[0m\u001b[0mfilepath_or_buffer\u001b[0m\u001b[1;33m,\u001b[0m \u001b[0mkwds\u001b[0m\u001b[1;33m)\u001b[0m\u001b[1;33m\u001b[0m\u001b[1;33m\u001b[0m\u001b[0m\n\u001b[0m\u001b[0;32m    677\u001b[0m \u001b[1;33m\u001b[0m\u001b[0m\n\u001b[0;32m    678\u001b[0m     \u001b[0mparser_f\u001b[0m\u001b[1;33m.\u001b[0m\u001b[0m__name__\u001b[0m \u001b[1;33m=\u001b[0m \u001b[0mname\u001b[0m\u001b[1;33m\u001b[0m\u001b[1;33m\u001b[0m\u001b[0m\n",
        "\u001b[1;32m~\\Anaconda3\\ANACONDA\\lib\\site-packages\\pandas\\io\\parsers.py\u001b[0m in \u001b[0;36m_read\u001b[1;34m(filepath_or_buffer, kwds)\u001b[0m\n\u001b[0;32m    452\u001b[0m \u001b[1;33m\u001b[0m\u001b[0m\n\u001b[0;32m    453\u001b[0m     \u001b[1;32mtry\u001b[0m\u001b[1;33m:\u001b[0m\u001b[1;33m\u001b[0m\u001b[1;33m\u001b[0m\u001b[0m\n\u001b[1;32m--> 454\u001b[1;33m         \u001b[0mdata\u001b[0m \u001b[1;33m=\u001b[0m \u001b[0mparser\u001b[0m\u001b[1;33m.\u001b[0m\u001b[0mread\u001b[0m\u001b[1;33m(\u001b[0m\u001b[0mnrows\u001b[0m\u001b[1;33m)\u001b[0m\u001b[1;33m\u001b[0m\u001b[1;33m\u001b[0m\u001b[0m\n\u001b[0m\u001b[0;32m    455\u001b[0m     \u001b[1;32mfinally\u001b[0m\u001b[1;33m:\u001b[0m\u001b[1;33m\u001b[0m\u001b[1;33m\u001b[0m\u001b[0m\n\u001b[0;32m    456\u001b[0m         \u001b[0mparser\u001b[0m\u001b[1;33m.\u001b[0m\u001b[0mclose\u001b[0m\u001b[1;33m(\u001b[0m\u001b[1;33m)\u001b[0m\u001b[1;33m\u001b[0m\u001b[1;33m\u001b[0m\u001b[0m\n",
        "\u001b[1;32m~\\Anaconda3\\ANACONDA\\lib\\site-packages\\pandas\\io\\parsers.py\u001b[0m in \u001b[0;36mread\u001b[1;34m(self, nrows)\u001b[0m\n\u001b[0;32m   1131\u001b[0m     \u001b[1;32mdef\u001b[0m \u001b[0mread\u001b[0m\u001b[1;33m(\u001b[0m\u001b[0mself\u001b[0m\u001b[1;33m,\u001b[0m \u001b[0mnrows\u001b[0m\u001b[1;33m=\u001b[0m\u001b[1;32mNone\u001b[0m\u001b[1;33m)\u001b[0m\u001b[1;33m:\u001b[0m\u001b[1;33m\u001b[0m\u001b[1;33m\u001b[0m\u001b[0m\n\u001b[0;32m   1132\u001b[0m         \u001b[0mnrows\u001b[0m \u001b[1;33m=\u001b[0m \u001b[0m_validate_integer\u001b[0m\u001b[1;33m(\u001b[0m\u001b[1;34m\"nrows\"\u001b[0m\u001b[1;33m,\u001b[0m \u001b[0mnrows\u001b[0m\u001b[1;33m)\u001b[0m\u001b[1;33m\u001b[0m\u001b[1;33m\u001b[0m\u001b[0m\n\u001b[1;32m-> 1133\u001b[1;33m         \u001b[0mret\u001b[0m \u001b[1;33m=\u001b[0m \u001b[0mself\u001b[0m\u001b[1;33m.\u001b[0m\u001b[0m_engine\u001b[0m\u001b[1;33m.\u001b[0m\u001b[0mread\u001b[0m\u001b[1;33m(\u001b[0m\u001b[0mnrows\u001b[0m\u001b[1;33m)\u001b[0m\u001b[1;33m\u001b[0m\u001b[1;33m\u001b[0m\u001b[0m\n\u001b[0m\u001b[0;32m   1134\u001b[0m \u001b[1;33m\u001b[0m\u001b[0m\n\u001b[0;32m   1135\u001b[0m         \u001b[1;31m# May alter columns / col_dict\u001b[0m\u001b[1;33m\u001b[0m\u001b[1;33m\u001b[0m\u001b[1;33m\u001b[0m\u001b[0m\n",
        "\u001b[1;32m~\\Anaconda3\\ANACONDA\\lib\\site-packages\\pandas\\io\\parsers.py\u001b[0m in \u001b[0;36mread\u001b[1;34m(self, nrows)\u001b[0m\n\u001b[0;32m   2035\u001b[0m     \u001b[1;32mdef\u001b[0m \u001b[0mread\u001b[0m\u001b[1;33m(\u001b[0m\u001b[0mself\u001b[0m\u001b[1;33m,\u001b[0m \u001b[0mnrows\u001b[0m\u001b[1;33m=\u001b[0m\u001b[1;32mNone\u001b[0m\u001b[1;33m)\u001b[0m\u001b[1;33m:\u001b[0m\u001b[1;33m\u001b[0m\u001b[1;33m\u001b[0m\u001b[0m\n\u001b[0;32m   2036\u001b[0m         \u001b[1;32mtry\u001b[0m\u001b[1;33m:\u001b[0m\u001b[1;33m\u001b[0m\u001b[1;33m\u001b[0m\u001b[0m\n\u001b[1;32m-> 2037\u001b[1;33m             \u001b[0mdata\u001b[0m \u001b[1;33m=\u001b[0m \u001b[0mself\u001b[0m\u001b[1;33m.\u001b[0m\u001b[0m_reader\u001b[0m\u001b[1;33m.\u001b[0m\u001b[0mread\u001b[0m\u001b[1;33m(\u001b[0m\u001b[0mnrows\u001b[0m\u001b[1;33m)\u001b[0m\u001b[1;33m\u001b[0m\u001b[1;33m\u001b[0m\u001b[0m\n\u001b[0m\u001b[0;32m   2038\u001b[0m         \u001b[1;32mexcept\u001b[0m \u001b[0mStopIteration\u001b[0m\u001b[1;33m:\u001b[0m\u001b[1;33m\u001b[0m\u001b[1;33m\u001b[0m\u001b[0m\n\u001b[0;32m   2039\u001b[0m             \u001b[1;32mif\u001b[0m \u001b[0mself\u001b[0m\u001b[1;33m.\u001b[0m\u001b[0m_first_chunk\u001b[0m\u001b[1;33m:\u001b[0m\u001b[1;33m\u001b[0m\u001b[1;33m\u001b[0m\u001b[0m\n",
        "\u001b[1;32mpandas\\_libs\\parsers.pyx\u001b[0m in \u001b[0;36mpandas._libs.parsers.TextReader.read\u001b[1;34m()\u001b[0m\n",
        "\u001b[1;32mpandas\\_libs\\parsers.pyx\u001b[0m in \u001b[0;36mpandas._libs.parsers.TextReader._read_low_memory\u001b[1;34m()\u001b[0m\n",
        "\u001b[1;32mpandas\\_libs\\parsers.pyx\u001b[0m in \u001b[0;36mpandas._libs.parsers.TextReader._read_rows\u001b[1;34m()\u001b[0m\n",
        "\u001b[1;32mpandas\\_libs\\parsers.pyx\u001b[0m in \u001b[0;36mpandas._libs.parsers.TextReader._tokenize_rows\u001b[1;34m()\u001b[0m\n",
        "\u001b[1;32mpandas\\_libs\\parsers.pyx\u001b[0m in \u001b[0;36mpandas._libs.parsers.raise_parser_error\u001b[1;34m()\u001b[0m\n",
        "\u001b[1;31mParserError\u001b[0m: Error tokenizing data. C error: Expected 10 fields in line 4, saw 11\n"
       ]
      }
     ],
     "persistentId": "497b80bb-0f25-454a-ad34-861d82e7fa46",
     "text": "gehakt = pd.read_csv(r'C:\\Users\\Renate\\OneDrive\\Documenten\\Baime\\Projecten\\Project Plus Guido van Dijck\\BESTANDEN PLUS NL\\verkooptransacties rundergehakt.csv')\ngehakt.head()"
    },
    "executionTime": "2020-06-09T10:55:37.396Z"
   },
   {
    "cell": {
     "executionCount": 4,
     "executionEventId": "a435ba0e-5e8a-4e55-b6f4-920a161bc678",
     "hasError": false,
     "id": "abea8f74-b3ad-417c-9680-bbd022844c48",
     "outputs": [
      {
       "name": "stderr",
       "output_type": "stream",
       "text": "b'Skipping line 4: expected 10 fields, saw 11\\nSkipping line 5: expected 10 fields, saw 11\\nSkipping line 17: expected 10 fields, saw 11\\nSkipping line 25: expected 10 fields, saw 11\\nSkipping line 27: expected 10 fields, saw 11\\nSkipping line 28: expected 10 fields, saw 11\\nSkipping line 33: expected 10 fields, saw 11\\nSkipping line 34: expected 10 fields, saw 11\\nSkipping line 36: expected 10 fields, saw 11\\nSkipping line 37: expected 10 fields, saw 11\\nSkipping line 39: expected 10 fields, saw 11\\nSkipping line 40: expected 10 fields, saw 11\\nSkipping line 43: expected 10 fields, saw 11\\nSkipping line 45: expected 10 fields, saw 11\\nSkipping line 46: expected 10 fields, saw 11\\nSkipping line 47: expected 10 fields, saw 11\\nSkipping line 49: expected 10 fields, saw 11\\nSkipping line 50: expected 10 fields, saw 11\\nSkipping line 51: expected 10 fields, saw 11\\nSkipping line 54: expected 10 fields, saw 11\\nSkipping line 55: expected 10 fields, saw 11\\nSkipping line 56: expected 10 fields, saw 11\\nSkipping line 59: expected 10 fields, saw 11\\nSkipping line 60: expected 10 fields, saw 11\\nSkipping line 61: expected 10 fields, saw 11\\nSkipping line 63: expected 10 fields, saw 11\\nSkipping line 64: expected 10 fields, saw 11\\nSkipping line 65: expected 10 fields, saw 11\\nSkipping line 66: expected 10 fields, saw 11\\nSkipping line 67: expected 10 fields, saw 11\\nSkipping line 68: expected 10 fields, saw 11\\nSkipping line 69: expected 10 fields, saw 11\\nSkipping line 70: expected 10 fields, saw 11\\nSkipping line 73: expected 10 fields, saw 11\\nSkipping line 74: expected 10 fields, saw 11\\nSkipping line 75: expected 10 fields, saw 11\\nSkipping line 77: expected 10 fields, saw 11\\nSkipping line 78: expected 10 fields, saw 11\\nSkipping line 80: expected 10 fields, saw 11\\nSkipping line 82: expected 10 fields, saw 11\\nSkipping line 83: expected 10 fields, saw 11\\nSkipping line 84: expected 10 fields, saw 11\\nSkipping line 86: expected 10 fields, saw 11\\nSkipping line 87: expected 10 fields, saw 11\\nSkipping line 88: expected 10 fields, saw 11\\nSkipping line 89: expected 10 fields, saw 11\\nSkipping line 90: expected 10 fields, saw 11\\nSkipping line 91: expected 10 fields, saw 11\\nSkipping line 92: expected 10 fields, saw 11\\nSkipping line 93: expected 10 fields, saw 11\\nSkipping line 96: expected 10 fields, saw 11\\nSkipping line 98: expected 10 fields, saw 11\\nSkipping line 99: expected 10 fields, saw 11\\nSkipping line 100: expected 10 fields, saw 11\\nSkipping line 102: expected 10 fields, saw 11\\nSkipping line 106: expected 10 fields, saw 11\\nSkipping line 107: expected 10 fields, saw 11\\nSkipping line 109: expected 10 fields, saw 11\\nSkipping line 110: expected 10 fields, saw 11\\nSkipping line 111: expected 10 fields, saw 11\\nSkipping line 112: expected 10 fields, saw 11\\nSkipping line 113: expected 10 fields, saw 11\\nSkipping line 116: expected 10 fields, saw 11\\nSkipping line 117: expected 10 fields, saw 11\\nSkipping line 118: expected 10 fields, saw 11\\nSkipping line 123: expected 10 fields, saw 11\\nSkipping line 124: expected 10 fields, saw 11\\nSkipping line 125: expected 10 fields, saw 11\\nSkipping line 126: expected 10 fields, saw 11\\nSkipping line 127: expected 10 fields, saw 11\\nSkipping line 128: expected 10 fields, saw 11\\nSkipping line 129: expected 10 fields, saw 11\\nSkipping line 133: expected 10 fields, saw 11\\nSkipping line 134: expected 10 fields, saw 11\\nSkipping line 170: expected 10 fields, saw 11\\nSkipping line 321: expected 10 fields, saw 11\\nSkipping line 328: expected 10 fields, saw 11\\nSkipping line 331: expected 10 fields, saw 11\\nSkipping line 337: expected 10 fields, saw 11\\nSkipping line 346: expected 10 fields, saw 11\\nSkipping line 347: expected 10 fields, saw 11\\nSkipping line 348: expected 10 fields, saw 11\\nSkipping line 350: expected 10 fields, saw 11\\nSkipping line 351: expected 10 fields, saw 11\\nSkipping line 354: expected 10 fields, saw 11\\nSkipping line 358: expected 10 fields, saw 11\\nSkipping line 359: expected 10 fields, saw 11\\nSkipping line 360: expected 10 fields, saw 11\\nSkipping line 366: expected 10 fields, saw 11\\nSkipping line 375: expected 10 fields, saw 11\\nSkipping line 377: expected 10 fields, saw 11\\nSkipping line 379: expected 10 fields, saw 11\\nSkipping line 384: expected 10 fields, saw 11\\nSkipping line 394: expected 10 fields, saw 11\\nSkipping line 397: expected 10 fields, saw 11\\nSkipping line 404: expected 10 fields, saw 11\\nSkipping line 405: expected 10 fields, saw 11\\nSkipping line 408: expected 10 fields, saw 11\\nSkipping line 421: expected 10 fields, saw 11\\nSkipping line 424: expected 10 fields, saw 11\\nSkipping line 425: expected 10 fields, saw 11\\nSkipping line 436: expected 10 fields, saw 11\\nSkipping line 437: expected 10 fields, saw 11\\nSkipping line 440: expected 10 fields, saw 11\\nSkipping line 452: expected 10 fields, saw 11\\nSkipping line 453: expected 10 fields, saw 11\\nSkipping line 454: expected 10 fields, saw 11\\nSkipping line 455: expected 10 fields, saw 11\\nSkipping line 456: expected 10 fields, saw 11\\nSkipping line 460: expected 10 fields, saw 11\\nSkipping line 465: expected 10 fields, saw 11\\nSkipping line 475: expected 10 fields, saw 11\\nSkipping line 491: expected 10 fields, saw 11\\nSkipping line 517: expected 10 fields, saw 11\\nSkipping line 525: expected 10 fields, saw 11\\nSkipping line 529: expected 10 fields, saw 11\\nSkipping line 530: expected 10 fields, saw 11\\nSkipping line 532: expected 10 fields, saw 11\\nSkipping line 553: expected 10 fields, saw 11\\nSkipping line 562: expected 10 fields, saw 11\\nSkipping line 565: expected 10 fields, saw 11\\nSkipping line 566: expected 10 fields, saw 11\\nSkipping line 576: expected 10 fields, saw 11\\nSkipping line 577: expected 10 fields, saw 11\\nSkipping line 590: expected 10 fields, saw 11\\nSkipping line 591: expected 10 fields, saw 11\\nSkipping line 598: expected 10 fields, saw 11\\nSkipping line 607: expected 10 fields, saw 11\\nSkipping line 609: expected 10 fields, saw 11\\nSkipping line 632: expected 10 fields, saw 11\\nSkipping line 654: expected 10 fields, saw 11\\nSkipping line 658: expected 10 fields, saw 11\\nSkipping line 667: expected 10 fields, saw 11\\nSkipping line 675: expected 10 fields, saw 11\\nSkipping line 676: expected 10 fields, saw 11\\nSkipping line 685: expected 10 fields, saw 11\\nSkipping line 686: expected 10 fields, saw 11\\nSkipping line 696: expected 10 fields, saw 11\\nSkipping line 707: expected 10 fields, saw 11\\nSkipping line 708: expected 10 fields, saw 11\\nSkipping line 715: expected 10 fields, saw 11\\nSkipping line 726: expected 10 fields, saw 11\\nSkipping line 727: expected 10 fields, saw 11\\nSkipping line 729: expected 10 fields, saw 11\\nSkipping line 733: expected 10 fields, saw 11\\nSkipping line 734: expected 10 fields, saw 11\\nSkipping line 735: expected 10 fields, saw 11\\nSkipping line 737: expected 10 fields, saw 11\\nSkipping line 740: expected 10 fields, saw 11\\nSkipping line 746: expected 10 fields, saw 11\\nSkipping line 753: expected 10 fields, saw 11\\nSkipping line 756: expected 10 fields, saw 11\\nSkipping line 757: expected 10 fields, saw 11\\nSkipping line 758: expected 10 fields, saw 11\\nSkipping line 759: expected 10 fields, saw 11\\nSkipping line 760: expected 10 fields, saw 11\\nSkipping line 763: expected 10 fields, saw 11\\nSkipping line 764: expected 10 fields, saw 11\\nSkipping line 765: expected 10 fields, saw 11\\nSkipping line 768: expected 10 fields, saw 11\\nSkipping line 769: expected 10 fields, saw 11\\nSkipping line 770: expected 10 fields, saw 11\\nSkipping line 771: expected 10 fields, saw 11\\nSkipping line 772: expected 10 fields, saw 11\\nSkipping line 776: expected 10 fields, saw 11\\nSkipping line 779: expected 10 fields, saw 11\\nSkipping line 782: expected 10 fields, saw 11\\nSkipping line 785: expected 10 fields, saw 11\\nSkipping line 786: expected 10 fields, saw 11\\nSkipping line 787: expected 10 fields, saw 11\\nSkipping line 788: expected 10 fields, saw 11\\nSkipping line 789: expected 10 fields, saw 11\\nSkipping line 790: expected 10 fields, saw 11\\nSkipping line 791: expected 10 fields, saw 11\\nSkipping line 792: expected 10 fields, saw 11\\nSkipping line 793: expected 10 fields, saw 11\\nSkipping line 794: expected 10 fields, saw 11\\nSkipping line 795: expected 10 fields, saw 11\\nSkipping line 797: expected 10 fields, saw 11\\nSkipping line 798: expected 10 fields, saw 11\\nSkipping line 799: expected 10 fields, saw 11\\nSkipping line 800: expected 10 fields, saw 11\\nSkipping line 802: expected 10 fields, saw 11\\nSkipping line 810: expected 10 fields, saw 11\\nSkipping line 812: expected 10 fields, saw 11\\nSkipping line 813: expected 10 fields, saw 11\\nSkipping line 815: expected 10 fields, saw 11\\nSkipping line 816: expected 10 fields, saw 11\\nSkipping line 817: expected 10 fields, saw 11\\nSkipping line 818: expected 10 fields, saw 11\\nSkipping line 819: expected 10 fields, saw 11\\nSkipping line 820: expected 10 fields, saw 11\\nSkipping line 822: expected 10 fields, saw 11\\nSkipping line 823: expected 10 fields, saw 11\\nSkipping line 826: expected 10 fields, saw 11\\nSkipping line 827: expected 10 fields, saw 11\\nSkipping line 828: expected 10 fields, saw 11\\nSkipping line 838: expected 10 fields, saw 11\\nSkipping line 844: expected 10 fields, saw 11\\nSkipping line 847: expected 10 fields, saw 11\\nSkipping line 854: expected 10 fields, saw 11\\nSkipping line 855: expected 10 fields, saw 11\\nSkipping line 856: expected 10 fields, saw 11\\nSkipping line 857: expected 10 fields, saw 11\\nSkipping line 859: expected 10 fields, saw 11\\nSkipping line 862: expected 10 fields, saw 11\\nSkipping line 864: expected 10 fields, saw 11\\nSkipping line 867: expected 10 fields, saw 11\\nSkipping line 868: expected 10 fields, saw 11\\nSkipping line 869: expected 10 fields, saw 11\\nSkipping line 875: expected 10 fields, saw 11\\nSkipping line 876: expected 10 fields, saw 11\\nSkipping line 884: expected 10 fields, saw 11\\nSkipping line 885: expected 10 fields, saw 11\\nSkipping line 886: expected 10 fields, saw 11\\nSkipping line 888: expected 10 fields, saw 11\\nSkipping line 890: expected 10 fields, saw 11\\nSkipping line 891: expected 10 fields, saw 11\\nSkipping line 892: expected 10 fields, saw 11\\nSkipping line 893: expected 10 fields, saw 11\\nSkipping line 894: expected 10 fields, saw 11\\nSkipping line 895: expected 10 fields, saw 11\\nSkipping line 896: expected 10 fields, saw 11\\nSkipping line 897: expected 10 fields, saw 11\\nSkipping line 901: expected 10 fields, saw 11\\nSkipping line 902: expected 10 fields, saw 11\\nSkipping line 905: expected 10 fields, saw 11\\nSkipping line 909: expected 10 fields, saw 11\\nSkipping line 912: expected 10 fields, saw 11\\nSkipping line 914: expected 10 fields, saw 11\\nSkipping line 921: expected 10 fields, saw 11\\nSkipping line 924: expected 10 fields, saw 11\\nSkipping line 925: expected 10 fields, saw 11\\nSkipping line 928: expected 10 fields, saw 11\\nSkipping line 929: expected 10 fields, saw 11\\nSkipping line 930: expected 10 fields, saw 11\\nSkipping line 931: expected 10 fields, saw 11\\nSkipping line 932: expected 10 fields, saw 11\\nSkipping line 933: expected 10 fields, saw 11\\nSkipping line 937: expected 10 fields, saw 11\\nSkipping line 946: expected 10 fields, saw 11\\nSkipping line 947: expected 10 fields, saw 11\\nSkipping line 949: expected 10 fields, saw 11\\nSkipping line 950: expected 10 fields, saw 11\\nSkipping line 954: expected 10 fields, saw 11\\nSkipping line 957: expected 10 fields, saw 11\\nSkipping line 958: expected 10 fields, saw 11\\nSkipping line 963: expected 10 fields, saw 11\\nSkipping line 964: expected 10 fields, saw 11\\nSkipping line 967: expected 10 fields, saw 11\\nSkipping line 971: expected 10 fields, saw 11\\nSkipping line 973: expected 10 fields, saw 11\\nSkipping line 979: expected 10 fields, saw 11\\nSkipping line 981: expected 10 fields, saw 11\\nSkipping line 983: expected 10 fields, saw 11\\nSkipping line 984: expected 10 fields, saw 11\\nSkipping line 988: expected 10 fields, saw 11\\nSkipping line 989: expected 10 fields, saw 11\\nSkipping line 991: expected 10 fields, saw 11\\nSkipping line 992: expected 10 fields, saw 11\\nSkipping line 993: expected 10 fields, saw 11\\nSkipping line 995: expected 10 fields, saw 11\\nSkipping line 1000: expected 10 fields, saw 11\\nSkipping line 1006: expected 10 fields, saw 11\\nSkipping line 1007: expected 10 fields, saw 11\\nSkipping line 1008: expected 10 fields, saw 11\\nSkipping line 1009: expected 10 fields, saw 11\\nSkipping line 1011: expected 10 fields, saw 11\\nSkipping line 1012: expected 10 fields, saw 11\\nSkipping line 1021: expected 10 fields, saw 11\\nSkipping line 1022: expected 10 fields, saw 11\\nSkipping line 1027: expected 10 fields, saw 11\\nSkipping line 1033: expected 10 fields, saw 11\\nSkipping line 1034: expected 10 fields, saw 11\\nSkipping line 1035: expected 10 fields, saw 11\\nSkipping line 1042: expected 10 fields, saw 11\\nSkipping line 1044: expected 10 fields, saw 11\\nSkipping line 1058: expected 10 fields, saw 11\\nSkipping line 1059: expected 10 fields, saw 11\\nSkipping line 1060: expected 10 fields, saw 11\\nSkipping line 1061: expected 10 fields, saw 11\\nSkipping line 1062: expected 10 fields, saw 11\\nSkipping line 1067: expected 10 fields, saw 11\\nSkipping line 1069: expected 10 fields, saw 11\\nSkipping line 1074: expected 10 fields, saw 11\\nSkipping line 1075: expected 10 fields, saw 11\\nSkipping line 1078: expected 10 fields, saw 11\\nSkipping line 1085: expected 10 fields, saw 11\\nSkipping line 1091: expected 10 fields, saw 11\\nSkipping line 1092: expected 10 fields, saw 11\\nSkipping line 1093: expected 10 fields, saw 11\\nSkipping line 1094: expected 10 fields, saw 11\\nSkipping line 1099: expected 10 fields, saw 11\\nSkipping line 1100: expected 10 fields, saw 11\\nSkipping line 1102: expected 10 fields, saw 11\\nSkipping line 1109: expected 10 fields, saw 11\\nSkipping line 1110: expected 10 fields, saw 11\\nSkipping line 1111: expected 10 fields, saw 11\\nSkipping line 1112: expected 10 fields, saw 11\\nSkipping line 1113: expected 10 fields, saw 11\\nSkipping line 1116: expected 10 fields, saw 11\\nSkipping line 1141: expected 10 fields, saw 11\\nSkipping line 1178: expected 10 fields, saw 11\\nSkipping line 1185: expected 10 fields, saw 11\\nSkipping line 1190: expected 10 fields, saw 11\\nSkipping line 1192: expected 10 fields, saw 11\\nSkipping line 1195: expected 10 fields, saw 11\\nSkipping line 1200: expected 10 fields, saw 11\\nSkipping line 1201: expected 10 fields, saw 11\\nSkipping line 1202: expected 10 fields, saw 11\\nSkipping line 1204: expected 10 fields, saw 11\\nSkipping line 1207: expected 10 fields, saw 11\\nSkipping line 1211: expected 10 fields, saw 11\\nSkipping line 1212: expected 10 fields, saw 11\\nSkipping line 1213: expected 10 fields, saw 11\\nSkipping line 1214: expected 10 fields, saw 11\\nSkipping line 1218: expected 10 fields, saw 11\\nSkipping line 1219: expected 10 fields, saw 11\\nSkipping line 1220: expected 10 fields, saw 11\\nSkipping line 1221: expected 10 fields, saw 11\\nSkipping line 1225: expected 10 fields, saw 11\\nSkipping line 1229: expected 10 fields, saw 11\\nSkipping line 1230: expected 10 fields, saw 11\\nSkipping line 1236: expected 10 fields, saw 11\\nSkipping line 1237: expected 10 fields, saw 11\\nSkipping line 1238: expected 10 fields, saw 11\\nSkipping line 1241: expected 10 fields, saw 11\\nSkipping line 1242: expected 10 fields, saw 11\\nSkipping line 1243: expected 10 fields, saw 11\\nSkipping line 1244: expected 10 fields, saw 11\\nSkipping line 1245: expected 10 fields, saw 11\\nSkipping line 1249: expected 10 fields, saw 11\\nSkipping line 1252: expected 10 fields, saw 11\\nSkipping line 1267: expected 10 fields, saw 11\\nSkipping line 1273: expected 10 fields, saw 11\\nSkipping line 1278: expected 10 fields, saw 11\\nSkipping line 1279: expected 10 fields, saw 11\\nSkipping line 1280: expected 10 fields, saw 11\\nSkipping line 1281: expected 10 fields, saw 11\\nSkipping line 1282: expected 10 fields, saw 11\\nSkipping line 1295: expected 10 fields, saw 11\\nSkipping line 1297: expected 10 fields, saw 11\\nSkipping line 1299: expected 10 fields, saw 11\\nSkipping line 1300: expected 10 fields, saw 11\\nSkipping line 1302: expected 10 fields, saw 11\\nSkipping line 1307: expected 10 fields, saw 11\\nSkipping line 1310: expected 10 fields, saw 11\\nSkipping line 1315: expected 10 fields, saw 11\\nSkipping line 1316: expected 10 fields, saw 11\\nSkipping line 1321: expected 10 fields, saw 11\\nSkipping line 1328: expected 10 fields, saw 11\\nSkipping line 1331: expected 10 fields, saw 11\\nSkipping line 1333: expected 10 fields, saw 11\\nSkipping line 1334: expected 10 fields, saw 11\\nSkipping line 1335: expected 10 fields, saw 11\\nSkipping line 1337: expected 10 fields, saw 11\\nSkipping line 1339: expected 10 fields, saw 11\\nSkipping line 1340: expected 10 fields, saw 11\\nSkipping line 1342: expected 10 fields, saw 11\\nSkipping line 1343: expected 10 fields, saw 11\\nSkipping line 1356: expected 10 fields, saw 11\\nSkipping line 1359: expected 10 fields, saw 11\\nSkipping line 1377: expected 10 fields, saw 11\\nSkipping line 1378: expected 10 fields, saw 11\\nSkipping line 1383: expected 10 fields, saw 11\\nSkipping line 1393: expected 10 fields, saw 11\\nSkipping line 1394: expected 10 fields, saw 11\\nSkipping line 1404: expected 10 fields, saw 11\\nSkipping line 1416: expected 10 fields, saw 11\\nSkipping line 1418: expected 10 fields, saw 11\\nSkipping line 1419: expected 10 fields, saw 11\\nSkipping line 1421: expected 10 fields, saw 11\\nSkipping line 1428: expected 10 fields, saw 11\\nSkipping line 1438: expected 10 fields, saw 11\\nSkipping line 1440: expected 10 fields, saw 11\\nSkipping line 1442: expected 10 fields, saw 11\\nSkipping line 1443: expected 10 fields, saw 11\\nSkipping line 1444: expected 10 fields, saw 11\\nSkipping line 1445: expected 10 fields, saw 11\\nSkipping line 1449: expected 10 fields, saw 11\\nSkipping line 1453: expected 10 fields, saw 11\\nSkipping line 1456: expected 10 fields, saw 11\\nSkipping line 1457: expected 10 fields, saw 11\\nSkipping line 1462: expected 10 fields, saw 11\\nSkipping line 1494: expected 10 fields, saw 11\\nSkipping line 1495: expected 10 fields, saw 11\\nSkipping line 1498: expected 10 fields, saw 11\\nSkipping line 1501: expected 10 fields, saw 11\\nSkipping line 1502: expected 10 fields, saw 11\\nSkipping line 1504: expected 10 fields, saw 11\\nSkipping line 1508: expected 10 fields, saw 11\\nSkipping line 1518: expected 10 fields, saw 11\\nSkipping line 1521: expected 10 fields, saw 11\\nSkipping line 1541: expected 10 fields, saw 11\\nSkipping line 1542: expected 10 fields, saw 11\\nSkipping line 1545: expected 10 fields, saw 11\\nSkipping line 1547: expected 10 fields, saw 11\\nSkipping line 1548: expected 10 fields, saw 11\\nSkipping line 1551: expected 10 fields, saw 11\\nSkipping line 1553: expected 10 fields, saw 11\\nSkipping line 1560: expected 10 fields, saw 11\\nSkipping line 1563: expected 10 fields, saw 11\\nSkipping line 1566: expected 10 fields, saw 11\\nSkipping line 1581: expected 10 fields, saw 11\\nSkipping line 1591: expected 10 fields, saw 11\\nSkipping line 1601: expected 10 fields, saw 11\\nSkipping line 1609: expected 10 fields, saw 11\\nSkipping line 1611: expected 10 fields, saw 11\\nSkipping line 1612: expected 10 fields, saw 11\\nSkipping line 1621: expected 10 fields, saw 11\\nSkipping line 1623: expected 10 fields, saw 11\\nSkipping line 1624: expected 10 fields, saw 11\\nSkipping line 1634: expected 10 fields, saw 11\\nSkipping line 1635: expected 10 fields, saw 11\\nSkipping line 1636: expected 10 fields, saw 11\\nSkipping line 1641: expected 10 fields, saw 11\\n'\n"
      },
      {
       "data": {
        "text/html": "<div>\n<style scoped>\n    .dataframe tbody tr th:only-of-type {\n        vertical-align: middle;\n    }\n\n    .dataframe tbody tr th {\n        vertical-align: top;\n    }\n\n    .dataframe thead th {\n        text-align: right;\n    }\n</style>\n<table border=\"1\" class=\"dataframe\">\n  <thead>\n    <tr style=\"text-align: right;\">\n      <th></th>\n      <th></th>\n      <th></th>\n      <th></th>\n      <th></th>\n      <th></th>\n      <th></th>\n      <th></th>\n      <th></th>\n      <th>DEWNKNR;DEKASNR;DETRANR;DEVLGNR;DESVGNR;DEKTRNR;DEVRKTY;DETRRTY;DEOMSCH;DEAANTL;DEINCBG;DEEXCBG;DEBRUBG;DESCNIN;DEINTST;DECREUS;DECREDT;DEWNKPR;DEPRONR;DEPRCDE;DEKLONR;DEWNKPG;DEPGRNR;DEWNKBM;DEBTMCE;DEDIMCE;DECOLLI;DESETCO;DEBTWBG;DEBEDTY;DEBTWCE;DEBTWPC;DEKORBG;DEPNTAT;DERNDIN;DEAFRBG;DEWNKRT;DERETCE;DERETOM;DEINCPR;DEEXCPR;DEBTWPR;DEINCNP;DEEXCNP;DEBTWNP;DEVAIPR;DEVAEPR;DEAFWBG;DEINKPR;DEINFOR;DERRTAT;DEWNPRI;DEPRDID;DESCNBR;DECRENR;DEWNKPB;DEPRONB;DEAANTB;DEINKWD;DEMUTUS;DEMUTDT;DEWNKPV;DEPRONV;DEINKWD_TEST</th>\n    </tr>\n  </thead>\n  <tbody>\n    <tr>\n      <th>199;\"5\";\"2340749\";\"13\";\"0\";\"2086757985870315719\";\"1\";\"1\";\"RUNDERGEHAKT\";\"516\";\"3</th>\n      <th>81\";\"3</th>\n      <th>5\";\"3</th>\n      <th>81\";\"1\";;\"AXIRS\";25-5-2020 09:27:28;\"99999\";\"117218\";\"117218\";;\"99999\";\"1023\";;;\"GR\";\"1\";;\"0</th>\n      <th>31\";\"I\";\"1\";\"9\";\"0\";\"0\";;;;;;\"7</th>\n      <th>38\";\"6</th>\n      <th>77\";\"0</th>\n      <th>61\";;;;;;;;;;\"199\";;\"2123040003812\";\"121567928\";\"99999\";\"117218\";\"0</th>\n      <th>516\";\"1</th>\n      <td>811\";\"BO_FIB_SNG_12\";25-5-2020 09:28:26;\"99999...</td>\n    </tr>\n    <tr>\n      <th>199;\"6\";\"2139514\";\"5\";\"0\";\"2082011462892716231\";\"1\";\"1\";\"RUNDERGEHAKT\";\"606\";\"4</th>\n      <th>47\";\"4</th>\n      <th>1\";\"4</th>\n      <th>47\";\"0\";;\"AXIRS\";12-5-2020 14:28:07;\"99999\";\"117218\";\"117218\";;\"99999\";\"1023\";;;\"GR\";\"1\";;\"0</th>\n      <th>37\";\"I\";\"1\";\"9\";\"0\";\"0\";;;;;;\"7</th>\n      <th>38\";\"6</th>\n      <th>77\";\"0</th>\n      <th>61\";;;;;;;;;;;;\"2123046004479\";\"120479235\";\"99999\";\"117218\";\"0</th>\n      <th>606\";\"2</th>\n      <td>127\";\"BO_FIB_SNG_12\";12-5-2020 14:29:13;\"99999...</td>\n    </tr>\n    <tr>\n      <th>199;\"12\";\"157812\";\"76\";\"0\";\"2084190304097140935\";\"1\";\"1\";\"RUNDERGEHAKT\";\"522\";\"3</th>\n      <th>85\";\"3</th>\n      <th>53\";\"3</th>\n      <th>85\";\"0\";;\"AXIRS\";18-5-2020 11:23:50;\"99999\";\"117218\";\"117218\";;\"99999\";\"1023\";;;\"GR\";\"1\";;\"0</th>\n      <th>32\";\"I\";\"1\";\"9\";\"0\";\"0\";;;;;;\"7</th>\n      <th>38\";\"6</th>\n      <th>77\";\"0</th>\n      <th>61\";;;;;;;;;;;;\"2123045003855\";\"120986720\";\"99999\";\"117218\";\"0</th>\n      <th>522\";\"1</th>\n      <td>832\";\"BO_FIB_SNG_12\";18-5-2020 11:24:58;\"99999...</td>\n    </tr>\n    <tr>\n      <th>199;\"12\";\"157812\";\"77\";\"0\";\"2084190304097140935\";\"1\";\"1\";\"RUNDERGEHAKT\";\"505\";\"3</th>\n      <th>73\";\"3</th>\n      <th>42\";\"3</th>\n      <th>73\";\"0\";;\"AXIRS\";18-5-2020 11:23:50;\"99999\";\"117218\";\"117218\";;\"99999\";\"1023\";;;\"GR\";\"1\";;\"0</th>\n      <th>31\";\"I\";\"1\";\"9\";\"0\";\"0\";;;;;;\"7</th>\n      <th>38\";\"6</th>\n      <th>77\";\"0</th>\n      <th>61\";;;;;;;;;;;;\"2123047003730\";\"120986720\";\"99999\";\"117218\";\"0</th>\n      <th>505\";\"1</th>\n      <td>773\";\"BO_FIB_SNG_12\";18-5-2020 11:24:58;\"99999...</td>\n    </tr>\n    <tr>\n      <th>199;\"6\";\"2132102\";\"10\";\"0\";\"2077832013037109447\";\"1\";\"1\";\"RUNDERGEHAKT\";\"558\";\"4</th>\n      <th>45\";\"4</th>\n      <th>08\";\"4</th>\n      <th>45\";\"0\";;\"AXIRS\";1-5-2020 08:10:32;\"99999\";\"117218\";\"117218\";;\"99999\";\"1023\";;;\"GR\";\"1\";;\"0</th>\n      <th>37\";\"I\";\"1\";\"9\";\"0\";\"0\";;;;;;\"7</th>\n      <th>98\";\"7</th>\n      <th>32\";\"0</th>\n      <th>66\";;;;;;;;;;\"199\";;\"2123049004452\";\"120152529\";\"99999\";\"117218\";\"0</th>\n      <th>558\";\"1</th>\n      <td>959\";\"BO_FIB_BLK_12\";1-5-2020 08:12:04;\"99999\"...</td>\n    </tr>\n  </tbody>\n</table>\n</div>",
        "text/plain": "                                                                                                                                                                                                                             DEWNKNR;DEKASNR;DETRANR;DEVLGNR;DESVGNR;DEKTRNR;DEVRKTY;DETRRTY;DEOMSCH;DEAANTL;DEINCBG;DEEXCBG;DEBRUBG;DESCNIN;DEINTST;DECREUS;DECREDT;DEWNKPR;DEPRONR;DEPRCDE;DEKLONR;DEWNKPG;DEPGRNR;DEWNKBM;DEBTMCE;DEDIMCE;DECOLLI;DESETCO;DEBTWBG;DEBEDTY;DEBTWCE;DEBTWPC;DEKORBG;DEPNTAT;DERNDIN;DEAFRBG;DEWNKRT;DERETCE;DERETOM;DEINCPR;DEEXCPR;DEBTWPR;DEINCNP;DEEXCNP;DEBTWNP;DEVAIPR;DEVAEPR;DEAFWBG;DEINKPR;DEINFOR;DERRTAT;DEWNPRI;DEPRDID;DESCNBR;DECRENR;DEWNKPB;DEPRONB;DEAANTB;DEINKWD;DEMUTUS;DEMUTDT;DEWNKPV;DEPRONV;DEINKWD_TEST\n199;\"5\";\"2340749\";\"13\";\"0\";\"2086757985870315719... 81\";\"3 5\";\"3  81\";\"1\";;\"AXIRS\";25-5-2020 09:27:28;\"99999\";\"11... 31\";\"I\";\"1\";\"9\";\"0\";\"0\";;;;;;\"7 38\";\"6 77\";\"0 61\";;;;;;;;;;\"199\";;\"2123040003812\";\"121567928\"... 516\";\"1  811\";\"BO_FIB_SNG_12\";25-5-2020 09:28:26;\"99999...                                                                                                                                                                                                                                                                                                                                                                                                                                                                                  \n199;\"6\";\"2139514\";\"5\";\"0\";\"2082011462892716231\"... 47\";\"4 1\";\"4  47\";\"0\";;\"AXIRS\";12-5-2020 14:28:07;\"99999\";\"11... 37\";\"I\";\"1\";\"9\";\"0\";\"0\";;;;;;\"7 38\";\"6 77\";\"0 61\";;;;;;;;;;;;\"2123046004479\";\"120479235\";\"999... 606\";\"2  127\";\"BO_FIB_SNG_12\";12-5-2020 14:29:13;\"99999...                                                                                                                                                                                                                                                                                                                                                                                                                                                                                  \n199;\"12\";\"157812\";\"76\";\"0\";\"2084190304097140935... 85\";\"3 53\";\"3 85\";\"0\";;\"AXIRS\";18-5-2020 11:23:50;\"99999\";\"11... 32\";\"I\";\"1\";\"9\";\"0\";\"0\";;;;;;\"7 38\";\"6 77\";\"0 61\";;;;;;;;;;;;\"2123045003855\";\"120986720\";\"999... 522\";\"1  832\";\"BO_FIB_SNG_12\";18-5-2020 11:24:58;\"99999...                                                                                                                                                                                                                                                                                                                                                                                                                                                                                  \n199;\"12\";\"157812\";\"77\";\"0\";\"2084190304097140935... 73\";\"3 42\";\"3 73\";\"0\";;\"AXIRS\";18-5-2020 11:23:50;\"99999\";\"11... 31\";\"I\";\"1\";\"9\";\"0\";\"0\";;;;;;\"7 38\";\"6 77\";\"0 61\";;;;;;;;;;;;\"2123047003730\";\"120986720\";\"999... 505\";\"1  773\";\"BO_FIB_SNG_12\";18-5-2020 11:24:58;\"99999...                                                                                                                                                                                                                                                                                                                                                                                                                                                                                  \n199;\"6\";\"2132102\";\"10\";\"0\";\"2077832013037109447... 45\";\"4 08\";\"4 45\";\"0\";;\"AXIRS\";1-5-2020 08:10:32;\"99999\";\"117... 37\";\"I\";\"1\";\"9\";\"0\";\"0\";;;;;;\"7 98\";\"7 32\";\"0 66\";;;;;;;;;;\"199\";;\"2123049004452\";\"120152529\"... 558\";\"1  959\";\"BO_FIB_BLK_12\";1-5-2020 08:12:04;\"99999\"...                                                                                                                                                                                                                                                                                                                                                                                                                                                                                  "
       },
       "execution_count": 4,
       "metadata": {},
       "output_type": "execute_result"
      }
     ],
     "persistentId": "497b80bb-0f25-454a-ad34-861d82e7fa46",
     "text": "gehakt = pd.read_csv(r'C:\\Users\\Renate\\OneDrive\\Documenten\\Baime\\Projecten\\Project Plus Guido van Dijck\\BESTANDEN PLUS NL\\verkooptransacties rundergehakt.csv', error_bad_lines=False\n                )\ngehakt.head()"
    },
    "executionTime": "2020-06-09T10:56:20.403Z"
   },
   {
    "cell": {
     "executionCount": 5,
     "executionEventId": "0790446e-7b5b-4343-a3aa-5d130f7369ef",
     "hasError": false,
     "id": "abea8f74-b3ad-417c-9680-bbd022844c48",
     "outputs": [
      {
       "data": {
        "text/html": "<div>\n<style scoped>\n    .dataframe tbody tr th:only-of-type {\n        vertical-align: middle;\n    }\n\n    .dataframe tbody tr th {\n        vertical-align: top;\n    }\n\n    .dataframe thead th {\n        text-align: right;\n    }\n</style>\n<table border=\"1\" class=\"dataframe\">\n  <thead>\n    <tr style=\"text-align: right;\">\n      <th></th>\n      <th>DEWNKNR</th>\n      <th>DEKASNR</th>\n      <th>DETRANR</th>\n      <th>DEVLGNR</th>\n      <th>DESVGNR</th>\n      <th>DEKTRNR</th>\n      <th>DEVRKTY</th>\n      <th>DETRRTY</th>\n      <th>DEOMSCH</th>\n      <th>DEAANTL</th>\n      <th>...</th>\n      <th>DECRENR</th>\n      <th>DEWNKPB</th>\n      <th>DEPRONB</th>\n      <th>DEAANTB</th>\n      <th>DEINKWD</th>\n      <th>DEMUTUS</th>\n      <th>DEMUTDT</th>\n      <th>DEWNKPV</th>\n      <th>DEPRONV</th>\n      <th>DEINKWD_TEST</th>\n    </tr>\n  </thead>\n  <tbody>\n    <tr>\n      <th>199</th>\n      <td>5</td>\n      <td>2340749</td>\n      <td>13</td>\n      <td>0</td>\n      <td>2086757985870315719</td>\n      <td>1</td>\n      <td>1</td>\n      <td>RUNDERGEHAKT</td>\n      <td>516</td>\n      <td>3,81</td>\n      <td>...</td>\n      <td>99999</td>\n      <td>117218</td>\n      <td>0,516</td>\n      <td>1,811</td>\n      <td>BO_FIB_SNG_12</td>\n      <td>25-5-2020 09:28:26</td>\n      <td>99999</td>\n      <td>117218</td>\n      <td>NaN</td>\n      <td>NaN</td>\n    </tr>\n    <tr>\n      <th>199</th>\n      <td>6</td>\n      <td>2139514</td>\n      <td>5</td>\n      <td>0</td>\n      <td>2082011462892716231</td>\n      <td>1</td>\n      <td>1</td>\n      <td>RUNDERGEHAKT</td>\n      <td>606</td>\n      <td>4,47</td>\n      <td>...</td>\n      <td>99999</td>\n      <td>117218</td>\n      <td>0,606</td>\n      <td>2,127</td>\n      <td>BO_FIB_SNG_12</td>\n      <td>12-5-2020 14:29:13</td>\n      <td>99999</td>\n      <td>117218</td>\n      <td>NaN</td>\n      <td>NaN</td>\n    </tr>\n    <tr>\n      <th>199</th>\n      <td>12</td>\n      <td>155322</td>\n      <td>36</td>\n      <td>0</td>\n      <td>2079676740145643719</td>\n      <td>1</td>\n      <td>1</td>\n      <td>RUNDERGEHAKT</td>\n      <td>592</td>\n      <td>3,14</td>\n      <td>...</td>\n      <td>99999</td>\n      <td>117218</td>\n      <td>0,592</td>\n      <td>2,078</td>\n      <td>BO_FIB_BLK_12</td>\n      <td>6-5-2020 07:29:52</td>\n      <td>99999</td>\n      <td>117218</td>\n      <td>NaN</td>\n      <td>NaN</td>\n    </tr>\n    <tr>\n      <th>199</th>\n      <td>12</td>\n      <td>155584</td>\n      <td>58</td>\n      <td>0</td>\n      <td>2080058000131096775</td>\n      <td>1</td>\n      <td>1</td>\n      <td>RUNDERGEHAKT</td>\n      <td>577</td>\n      <td>3,06</td>\n      <td>...</td>\n      <td>99999</td>\n      <td>117218</td>\n      <td>0,577</td>\n      <td>2,025</td>\n      <td>BO_FIB_BLK_12</td>\n      <td>7-5-2020 08:08:52</td>\n      <td>99999</td>\n      <td>117218</td>\n      <td>NaN</td>\n      <td>NaN</td>\n    </tr>\n    <tr>\n      <th>199</th>\n      <td>12</td>\n      <td>157812</td>\n      <td>76</td>\n      <td>0</td>\n      <td>2084190304097140935</td>\n      <td>1</td>\n      <td>1</td>\n      <td>RUNDERGEHAKT</td>\n      <td>522</td>\n      <td>3,85</td>\n      <td>...</td>\n      <td>99999</td>\n      <td>117218</td>\n      <td>0,522</td>\n      <td>1,832</td>\n      <td>BO_FIB_SNG_12</td>\n      <td>18-5-2020 11:24:58</td>\n      <td>99999</td>\n      <td>117218</td>\n      <td>NaN</td>\n      <td>NaN</td>\n    </tr>\n  </tbody>\n</table>\n<p>5 rows × 64 columns</p>\n</div>",
        "text/plain": "     DEWNKNR  DEKASNR  DETRANR  DEVLGNR              DESVGNR  DEKTRNR  \\\n199        5  2340749       13        0  2086757985870315719        1   \n199        6  2139514        5        0  2082011462892716231        1   \n199       12   155322       36        0  2079676740145643719        1   \n199       12   155584       58        0  2080058000131096775        1   \n199       12   157812       76        0  2084190304097140935        1   \n\n     DEVRKTY       DETRRTY  DEOMSCH DEAANTL  ... DECRENR DEWNKPB  DEPRONB  \\\n199        1  RUNDERGEHAKT      516    3,81  ...   99999  117218    0,516   \n199        1  RUNDERGEHAKT      606    4,47  ...   99999  117218    0,606   \n199        1  RUNDERGEHAKT      592    3,14  ...   99999  117218    0,592   \n199        1  RUNDERGEHAKT      577    3,06  ...   99999  117218    0,577   \n199        1  RUNDERGEHAKT      522    3,85  ...   99999  117218    0,522   \n\n     DEAANTB        DEINKWD             DEMUTUS  DEMUTDT  DEWNKPV  DEPRONV  \\\n199    1,811  BO_FIB_SNG_12  25-5-2020 09:28:26    99999   117218      NaN   \n199    2,127  BO_FIB_SNG_12  12-5-2020 14:29:13    99999   117218      NaN   \n199    2,078  BO_FIB_BLK_12   6-5-2020 07:29:52    99999   117218      NaN   \n199    2,025  BO_FIB_BLK_12   7-5-2020 08:08:52    99999   117218      NaN   \n199    1,832  BO_FIB_SNG_12  18-5-2020 11:24:58    99999   117218      NaN   \n\n     DEINKWD_TEST  \n199           NaN  \n199           NaN  \n199           NaN  \n199           NaN  \n199           NaN  \n\n[5 rows x 64 columns]"
       },
       "execution_count": 5,
       "metadata": {},
       "output_type": "execute_result"
      }
     ],
     "persistentId": "497b80bb-0f25-454a-ad34-861d82e7fa46",
     "text": "gehakt = pd.read_csv(r'C:\\Users\\Renate\\OneDrive\\Documenten\\Baime\\Projecten\\Project Plus Guido van Dijck\\BESTANDEN PLUS NL\\verkooptransacties rundergehakt.csv', \n                     sep= \";\", error_bad_lines=False)\ngehakt.head()"
    },
    "executionTime": "2020-06-09T10:57:41.742Z"
   }
  ],
  "kernelspec": {
   "display_name": "Python 3",
   "language": "python",
   "name": "python3"
  },
  "language_info": {
   "codemirror_mode": {
    "name": "ipython",
    "version": 3
   },
   "file_extension": ".py",
   "mimetype": "text/x-python",
   "name": "python",
   "nbconvert_exporter": "python",
   "pygments_lexer": "ipython3",
   "version": "3.7.3"
  },
  "uuid": "71d6a29e-a566-4500-9464-1cbdd9ff06a4"
 },
 "nbformat": 4,
 "nbformat_minor": 4
}
