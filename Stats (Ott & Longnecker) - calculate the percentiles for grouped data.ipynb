{
 "cells": [
  {
   "cell_type": "markdown",
   "metadata": {},
   "source": [
    "# calculate the percentiles for grouped data (using LaTex)"
   ]
  },
  {
   "cell_type": "code",
   "execution_count": 1,
   "metadata": {},
   "outputs": [],
   "source": [
    "#import the libraries\n",
    "import re\n",
    "import pandas as pd\n",
    "import latex"
   ]
  },
  {
   "cell_type": "markdown",
   "metadata": {},
   "source": [
    "Now let's remake the dataframe page 85 of the book **'Statistical Methods and Data Analysis'** (Ott&Longnecker)"
   ]
  },
  {
   "cell_type": "code",
   "execution_count": 2,
   "metadata": {},
   "outputs": [
    {
     "data": {
      "text/html": [
       "<div>\n",
       "<style scoped>\n",
       "    .dataframe tbody tr th:only-of-type {\n",
       "        vertical-align: middle;\n",
       "    }\n",
       "\n",
       "    .dataframe tbody tr th {\n",
       "        vertical-align: top;\n",
       "    }\n",
       "\n",
       "    .dataframe thead th {\n",
       "        text-align: right;\n",
       "    }\n",
       "</style>\n",
       "<table border=\"1\" class=\"dataframe\">\n",
       "  <thead>\n",
       "    <tr style=\"text-align: right;\">\n",
       "      <th></th>\n",
       "      <th>Class</th>\n",
       "      <th>Class Interval</th>\n",
       "      <th>$f_i$</th>\n",
       "      <th>Cumulative $f_i$</th>\n",
       "      <th>$f_i/n$</th>\n",
       "      <th>Cumulative $f_i/n$</th>\n",
       "    </tr>\n",
       "  </thead>\n",
       "  <tbody>\n",
       "    <tr>\n",
       "      <th>0</th>\n",
       "      <td>1</td>\n",
       "      <td>16.25-18.75</td>\n",
       "      <td>2</td>\n",
       "      <td>2</td>\n",
       "      <td>0.02</td>\n",
       "      <td>0.02</td>\n",
       "    </tr>\n",
       "    <tr>\n",
       "      <th>1</th>\n",
       "      <td>2</td>\n",
       "      <td>18.75-21.25</td>\n",
       "      <td>7</td>\n",
       "      <td>9</td>\n",
       "      <td>0.07</td>\n",
       "      <td>0.09</td>\n",
       "    </tr>\n",
       "    <tr>\n",
       "      <th>2</th>\n",
       "      <td>3</td>\n",
       "      <td>21.25-23.75</td>\n",
       "      <td>7</td>\n",
       "      <td>16</td>\n",
       "      <td>0.07</td>\n",
       "      <td>0.16</td>\n",
       "    </tr>\n",
       "    <tr>\n",
       "      <th>3</th>\n",
       "      <td>4</td>\n",
       "      <td>23.75-26.25</td>\n",
       "      <td>14</td>\n",
       "      <td>30</td>\n",
       "      <td>0.14</td>\n",
       "      <td>0.30</td>\n",
       "    </tr>\n",
       "    <tr>\n",
       "      <th>4</th>\n",
       "      <td>5</td>\n",
       "      <td>26.25-28.75</td>\n",
       "      <td>17</td>\n",
       "      <td>47</td>\n",
       "      <td>0.17</td>\n",
       "      <td>0.47</td>\n",
       "    </tr>\n",
       "    <tr>\n",
       "      <th>5</th>\n",
       "      <td>6</td>\n",
       "      <td>28.75-31.25</td>\n",
       "      <td>24</td>\n",
       "      <td>71</td>\n",
       "      <td>0.24</td>\n",
       "      <td>0.71</td>\n",
       "    </tr>\n",
       "    <tr>\n",
       "      <th>6</th>\n",
       "      <td>7</td>\n",
       "      <td>31.25-33.75</td>\n",
       "      <td>11</td>\n",
       "      <td>82</td>\n",
       "      <td>0.11</td>\n",
       "      <td>0.82</td>\n",
       "    </tr>\n",
       "    <tr>\n",
       "      <th>7</th>\n",
       "      <td>8</td>\n",
       "      <td>33.75-36.25</td>\n",
       "      <td>11</td>\n",
       "      <td>93</td>\n",
       "      <td>0.11</td>\n",
       "      <td>0.93</td>\n",
       "    </tr>\n",
       "    <tr>\n",
       "      <th>8</th>\n",
       "      <td>9</td>\n",
       "      <td>36.25-38.75</td>\n",
       "      <td>3</td>\n",
       "      <td>96</td>\n",
       "      <td>0.03</td>\n",
       "      <td>0.96</td>\n",
       "    </tr>\n",
       "    <tr>\n",
       "      <th>9</th>\n",
       "      <td>10</td>\n",
       "      <td>38.75-41.25</td>\n",
       "      <td>3</td>\n",
       "      <td>99</td>\n",
       "      <td>0.03</td>\n",
       "      <td>0.99</td>\n",
       "    </tr>\n",
       "    <tr>\n",
       "      <th>10</th>\n",
       "      <td>11</td>\n",
       "      <td>41.25-43.75</td>\n",
       "      <td>1</td>\n",
       "      <td>100</td>\n",
       "      <td>0.01</td>\n",
       "      <td>1.00</td>\n",
       "    </tr>\n",
       "  </tbody>\n",
       "</table>\n",
       "</div>"
      ],
      "text/plain": [
       "    Class Class Interval  $f_i$  Cumulative $f_i$  $f_i/n$  Cumulative $f_i/n$\n",
       "0       1    16.25-18.75      2                 2     0.02                0.02\n",
       "1       2    18.75-21.25      7                 9     0.07                0.09\n",
       "2       3    21.25-23.75      7                16     0.07                0.16\n",
       "3       4    23.75-26.25     14                30     0.14                0.30\n",
       "4       5    26.25-28.75     17                47     0.17                0.47\n",
       "5       6    28.75-31.25     24                71     0.24                0.71\n",
       "6       7    31.25-33.75     11                82     0.11                0.82\n",
       "7       8    33.75-36.25     11                93     0.11                0.93\n",
       "8       9    36.25-38.75      3                96     0.03                0.96\n",
       "9      10    38.75-41.25      3                99     0.03                0.99\n",
       "10     11    41.25-43.75      1               100     0.01                1.00"
      ]
     },
     "execution_count": 2,
     "metadata": {},
     "output_type": "execute_result"
    }
   ],
   "source": [
    "df = pd.DataFrame({'Class': [1,2,3,4,5,6,7,8,9,10,11], \n",
    "                   'Class Interval': ['16.25-18.75', '18.75-21.25', '21.25-23.75', \n",
    "                                      '23.75-26.25', '26.25-28.75', '28.75-31.25',\n",
    "                                      '31.25-33.75', '33.75-36.25', '36.25-38.75',\n",
    "                                      '38.75-41.25', '41.25-43.75'],\n",
    "                  '$f_i$' : [2,7,7,14,17,24,11,11,3,3,1],\n",
    "                  'Cumulative $f_i$': [2,9,16,30,47,71,82,93,96,99,100],\n",
    "                  '$f_i/n$' : [.02,.07,.07,.14,.17,.24,.11,.11,.03,.03,.01],\n",
    "                  'Cumulative $f_i/n$' : [.02, .09,.16,.30,.47,.71,.82,.93,.96,.99,1.00]})\n",
    "df"
   ]
  },
  {
   "cell_type": "markdown",
   "metadata": {},
   "source": [
    "## Assignment:\n",
    "Calculate the 90th percentile for grouped data of the dataframe 'df'"
   ]
  },
  {
   "cell_type": "markdown",
   "metadata": {},
   "source": [
    "The formula for this --> percentile = $P$ = $L$ + $\\frac w{f_p}$ $\\left({P}n - {cf_b}\\right)$\n",
    "\n",
    "where: \n",
    "- $P$ = percentile of interest\n",
    "- $L$ = lower limit of th class interval that includes the percentile of interest\n",
    "- $n$ = total frequency\n",
    "- $cf_b$ = cumulative frequency for all class intervals before the percentile class\n",
    "- $f_p$ = frequency of the class interval that includes the percentile of interest\n",
    "- $w$ = interval width"
   ]
  },
  {
   "cell_type": "markdown",
   "metadata": {},
   "source": [
    "## Solution "
   ]
  },
  {
   "cell_type": "markdown",
   "metadata": {},
   "source": [
    "#because the 8th class is the class that exceeds the .9 (=90%), the solution is:\n",
    "\n",
    "- $P$ = 90\n",
    "- $L$ = 33.75\n",
    "- $n$ = 100\n",
    "- $cf_b$ = 82\n",
    "- $f_p$ = 11\n",
    "- $w$ = 2.5"
   ]
  },
  {
   "cell_type": "markdown",
   "metadata": {},
   "source": [
    "With this information, we can fill in the formula"
   ]
  },
  {
   "cell_type": "markdown",
   "metadata": {},
   "source": [
    "percentile = $P$ = $L$ + $\\frac w{f_p}$ $\\left({P}n - {cf_b}\\right)$ = $P_{90}$ = 33.75 + $\\frac {2.5}{11}$ $\\left({.9(100)} - {82}\\right)$"
   ]
  },
  {
   "cell_type": "markdown",
   "metadata": {},
   "source": [
    "Thus:\n",
    "33.75 + 0.227(8) = 33.75 + 1.818 = 35.568"
   ]
  },
  {
   "cell_type": "markdown",
   "metadata": {},
   "source": [
    "Conclusion in this df, 90% has less than or equal to 35 ticks and 10% has 36 or more ticks."
   ]
  },
  {
   "cell_type": "code",
   "execution_count": null,
   "metadata": {},
   "outputs": [],
   "source": []
  }
 ],
 "metadata": {
  "kernelspec": {
   "display_name": "Python 3",
   "language": "python",
   "name": "python3"
  },
  "language_info": {
   "codemirror_mode": {
    "name": "ipython",
    "version": 3
   },
   "file_extension": ".py",
   "mimetype": "text/x-python",
   "name": "python",
   "nbconvert_exporter": "python",
   "pygments_lexer": "ipython3",
   "version": "3.7.3"
  }
 },
 "nbformat": 4,
 "nbformat_minor": 2
}
