{
 "cells": [
  {
   "cell_type": "markdown",
   "metadata": {},
   "source": [
    "# Bayes Formula"
   ]
  },
  {
   "cell_type": "markdown",
   "metadata": {},
   "source": [
    "Bayes’ Formula describes the probability of an event, based on prior knowledge of conditions that might be related to the event. The probability of E being present in the samples when the test yields a positive result P(E|Pos). "
   ]
  },
  {
   "cell_type": "markdown",
   "metadata": {},
   "source": [
    "## Explain True/False positives/negatives"
   ]
  },
  {
   "cell_type": "markdown",
   "metadata": {},
   "source": [
    "To understand and use Bayes' Formula, we first need to explain what the outcomes of a diagnostics test can be. \n",
    "Let's start with an example (from the book Ott & Longnecker):\n",
    "\n",
    "Suppose a meat inspector must decide whether a randomly selected meat sample contains E. coli bacteria. \n",
    "\n",
    "For this test we have the following data:\n",
    "- two sets of samples, 10.000 samples large\n",
    "- where the E. coli bacteria is placed in the first set\n",
    "- where the E. coli traces have all been removed in the second data set."
   ]
  },
  {
   "cell_type": "code",
   "execution_count": 3,
   "metadata": {},
   "outputs": [
    {
     "data": {
      "text/html": [
       "<div>\n",
       "<style scoped>\n",
       "    .dataframe tbody tr th:only-of-type {\n",
       "        vertical-align: middle;\n",
       "    }\n",
       "\n",
       "    .dataframe tbody tr th {\n",
       "        vertical-align: top;\n",
       "    }\n",
       "\n",
       "    .dataframe thead th {\n",
       "        text-align: right;\n",
       "    }\n",
       "</style>\n",
       "<table border=\"1\" class=\"dataframe\">\n",
       "  <thead>\n",
       "    <tr style=\"text-align: right;\">\n",
       "      <th></th>\n",
       "      <th>Diagnostic Test Result</th>\n",
       "      <th>Meat with E (E)</th>\n",
       "      <th>Meat without E (NE)</th>\n",
       "    </tr>\n",
       "  </thead>\n",
       "  <tbody>\n",
       "    <tr>\n",
       "      <th>0</th>\n",
       "      <td>positive</td>\n",
       "      <td>9500</td>\n",
       "      <td>100</td>\n",
       "    </tr>\n",
       "    <tr>\n",
       "      <th>1</th>\n",
       "      <td>negative</td>\n",
       "      <td>500</td>\n",
       "      <td>9900</td>\n",
       "    </tr>\n",
       "    <tr>\n",
       "      <th>2</th>\n",
       "      <td>total</td>\n",
       "      <td>10000</td>\n",
       "      <td>10000</td>\n",
       "    </tr>\n",
       "  </tbody>\n",
       "</table>\n",
       "</div>"
      ],
      "text/plain": [
       "  Diagnostic Test Result  Meat with E (E)  Meat without E (NE)\n",
       "0               positive             9500                  100\n",
       "1               negative              500                 9900\n",
       "2                  total            10000                10000"
      ]
     },
     "execution_count": 3,
     "metadata": {},
     "output_type": "execute_result"
    }
   ],
   "source": [
    "#first import the required librairies:\n",
    "import pandas as pd\n",
    "import latex\n",
    "\n",
    "#now let's make the dataframe, we will call this meatdata\n",
    "meatdata = pd.DataFrame({'Diagnostic Test Result': ['positive', 'negative', 'total'], \n",
    "                        'Meat with E (E)': [9500, 500, 10000],\n",
    "                        'Meat without E (NE)': [100, 9900, 10000]})\n",
    "meatdata"
   ]
  },
  {
   "cell_type": "markdown",
   "metadata": {},
   "source": [
    "- True positive rate (sensitivity) = $P(Pos|E)$ = $\\frac{9.500}{10.000}$ = .95 \n",
    "- False positive rate = $P(Pos|NE)$ = $\\frac{100}{10.000}$ = .01\n",
    "- True negative rate (specificity) = $P(Neg|NE)$ = $\\frac{9.900}{10.000}$ = .99\n",
    "- False negative rate = $P(Neg|E)$ = $\\frac{500}{10.000}$ = .05"
   ]
  },
  {
   "cell_type": "markdown",
   "metadata": {},
   "source": [
    "## Assignment:\n",
    "Compute via Bayes' Formula what the $P(E|Pos)$ is with the rate $P(E)$ of 4.5%."
   ]
  },
  {
   "cell_type": "markdown",
   "metadata": {},
   "source": [
    "## Solution:"
   ]
  },
  {
   "cell_type": "markdown",
   "metadata": {},
   "source": [
    "Now that we have gotten the data, the rate and computed the true positive, false positive, true negative and false negative rate, we will be able to fill in this original formula with all the details:\n",
    "\n",
    "$P(A|B)$ = $\\frac{P(B|A)P(A)}{{P(B|A)P(A)} + {P(B|{\\bar A})P({\\bar A})}}$"
   ]
  },
  {
   "cell_type": "markdown",
   "metadata": {},
   "source": [
    "Let's begin:\n",
    "\n",
    "$P(E|Pos)$ = $\\frac {P(Pos|E)P(E)} {{P(Pos|E)P(E)} + {P(Pos|NE)P(NE)}}$"
   ]
  },
  {
   "cell_type": "markdown",
   "metadata": {},
   "source": [
    "Where:\n",
    "- $P(Pos|E)$ = .95\n",
    "- $P(E)$ = rate = .045 (4.5%)\n",
    "- $P(Pos|NE)$ = .01\n",
    "- $P(NE)$ = 1 - .045 \n",
    "\n",
    "so:\n",
    "\n",
    "$P(E|Pos)$ = $\\frac {({.95})*({.045})} {{({.95})*({.045})} + {({.01})*({1 - .045})}}$ "
   ]
  },
  {
   "cell_type": "markdown",
   "metadata": {},
   "source": [
    "$P(E|Pos)$ = $\\frac {0.04275} {({0.04275}) + ({0.00955})}$ = .817"
   ]
  },
  {
   "cell_type": "markdown",
   "metadata": {},
   "source": [
    "## conclusion: \n",
    "In 81,7% of the time a True Positive can be found.\n",
    "This also means that we can conclude that in 18,3% of the time the test result indicated that there was a presence of E. coli, when in fact this was not correct. "
   ]
  },
  {
   "cell_type": "markdown",
   "metadata": {},
   "source": [
    "## Extra:\n",
    "Now, this was a simple example with only two columns of data. \n",
    "You can also test this on larger datasets, this would mean that the formula will become:\n",
    "\n",
    "$P(A|B)$ = $\\frac{P({B_j}|{A_i})P({A_i})} {{P({B_j}|{A_1})P({A_1})} + {P({B_j}|{A_2})P({A_2})} + ... + {P({B_j}|{A_k})P({A_k})}}$\n",
    "\n",
    "This can be summarized in:\n",
    "\n",
    "$P(A|B)$ = $\\frac{P({B_j}|{A_i})P({A_i})} {{\\sum_i}{P({B_j}|{A_i})P({A_i})}}$\n",
    "\n",
    "here you see there is some number $k$ of possible mutually exclusive underlying events."
   ]
  },
  {
   "cell_type": "code",
   "execution_count": null,
   "metadata": {},
   "outputs": [],
   "source": []
  }
 ],
 "metadata": {
  "kernelspec": {
   "display_name": "Python 3",
   "language": "python",
   "name": "python3"
  },
  "language_info": {
   "codemirror_mode": {
    "name": "ipython",
    "version": 3
   },
   "file_extension": ".py",
   "mimetype": "text/x-python",
   "name": "python",
   "nbconvert_exporter": "python",
   "pygments_lexer": "ipython3",
   "version": "3.7.3"
  }
 },
 "nbformat": 4,
 "nbformat_minor": 2
}
