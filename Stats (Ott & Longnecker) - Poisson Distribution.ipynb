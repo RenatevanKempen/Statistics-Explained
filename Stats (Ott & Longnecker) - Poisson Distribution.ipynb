{
 "cells": [
  {
   "cell_type": "markdown",
   "metadata": {},
   "source": [
    "# Poisson Distribution"
   ]
  },
  {
   "cell_type": "code",
   "execution_count": 1,
   "metadata": {},
   "outputs": [],
   "source": [
    "import latex"
   ]
  },
  {
   "cell_type": "markdown",
   "metadata": {},
   "source": [
    "Poisson: $y$ = the number of events occurring during a fixed time interval or length $t$ or a fixed region $R$ or area or volume $m(R)$. \n",
    "\n",
    "## Conditions of Poisson:\n",
    "- Events occur one at a time: Two or more events do not occur precisely at the same time or in the same space\n",
    "- The occurrence of an event in a given period of time or region of space is independent of the occurrence of the event in a nonoverlapping time period or region of space. The (non)occurrence doesn’t affect the probability of an other event. \n",
    "- The expected number of events during one period or in one region, µ, is the same as the expected number of events in any other period or region. \n",
    "\n",
    "## Formula Poisson\n",
    "$P(y)=  \\frac{μ^y e^{-μ}} {y!}$ \n",
    "\n",
    "where $e$ is a naturally occurring constant approximately equal to 2.71828.\n"
   ]
  },
  {
   "cell_type": "markdown",
   "metadata": {},
   "source": [
    "## Calculating Poisson Values with Python"
   ]
  },
  {
   "cell_type": "code",
   "execution_count": 2,
   "metadata": {},
   "outputs": [],
   "source": [
    "from scipy.stats import poisson"
   ]
  },
  {
   "cell_type": "code",
   "execution_count": 3,
   "metadata": {},
   "outputs": [
    {
     "data": {
      "text/plain": [
       "0.36591269376653923"
      ]
     },
     "execution_count": 3,
     "metadata": {},
     "output_type": "execute_result"
    }
   ],
   "source": [
    "#Poisson probabilities can be calculated with Python:\n",
    "#Poisson(y, µ)\n",
    "#In R, you use dpois(1,.9)\n",
    "poisson.pmf(1, 0.9)"
   ]
  },
  {
   "cell_type": "markdown",
   "metadata": {},
   "source": [
    "To make a table with the calculations:"
   ]
  },
  {
   "cell_type": "code",
   "execution_count": 4,
   "metadata": {},
   "outputs": [
    {
     "name": "stdout",
     "output_type": "stream",
     "text": [
      "0.5\n",
      "[1 2 3 4 5 6 7 8 9]\n"
     ]
    }
   ],
   "source": [
    "import numpy as np\n",
    "\n",
    "# Enter the value of µ here:\n",
    "mu = 0.5\n",
    "print(mu)\n",
    "\n",
    "# Enter the values of y\n",
    "y = np.array(range(1,10))\n",
    "print(y)"
   ]
  },
  {
   "cell_type": "code",
   "execution_count": 5,
   "metadata": {},
   "outputs": [
    {
     "data": {
      "text/plain": [
       "array([3.03265330e-01, 7.58163325e-02, 1.26360554e-02, 1.57950693e-03,\n",
       "       1.57950693e-04, 1.31625577e-05, 9.40182694e-07, 5.87614184e-08,\n",
       "       3.26452324e-09])"
      ]
     },
     "execution_count": 5,
     "metadata": {},
     "output_type": "execute_result"
    }
   ],
   "source": [
    "import pandas as pd\n",
    "\n",
    "# The function poisson.pmf(y, mu) returns the probabilities for all y values of the Poisson distribution:\n",
    "dp = poisson.pmf(y, mu)\n",
    "dp"
   ]
  },
  {
   "cell_type": "code",
   "execution_count": 6,
   "metadata": {},
   "outputs": [
    {
     "data": {
      "text/html": [
       "<div>\n",
       "<style scoped>\n",
       "    .dataframe tbody tr th:only-of-type {\n",
       "        vertical-align: middle;\n",
       "    }\n",
       "\n",
       "    .dataframe tbody tr th {\n",
       "        vertical-align: top;\n",
       "    }\n",
       "\n",
       "    .dataframe thead th {\n",
       "        text-align: right;\n",
       "    }\n",
       "</style>\n",
       "<table border=\"1\" class=\"dataframe\">\n",
       "  <thead>\n",
       "    <tr style=\"text-align: right;\">\n",
       "      <th></th>\n",
       "      <th>0</th>\n",
       "    </tr>\n",
       "  </thead>\n",
       "  <tbody>\n",
       "    <tr>\n",
       "      <th>0</th>\n",
       "      <td>3.032653e-01</td>\n",
       "    </tr>\n",
       "    <tr>\n",
       "      <th>1</th>\n",
       "      <td>7.581633e-02</td>\n",
       "    </tr>\n",
       "    <tr>\n",
       "      <th>2</th>\n",
       "      <td>1.263606e-02</td>\n",
       "    </tr>\n",
       "    <tr>\n",
       "      <th>3</th>\n",
       "      <td>1.579507e-03</td>\n",
       "    </tr>\n",
       "    <tr>\n",
       "      <th>4</th>\n",
       "      <td>1.579507e-04</td>\n",
       "    </tr>\n",
       "    <tr>\n",
       "      <th>5</th>\n",
       "      <td>1.316256e-05</td>\n",
       "    </tr>\n",
       "    <tr>\n",
       "      <th>6</th>\n",
       "      <td>9.401827e-07</td>\n",
       "    </tr>\n",
       "    <tr>\n",
       "      <th>7</th>\n",
       "      <td>5.876142e-08</td>\n",
       "    </tr>\n",
       "    <tr>\n",
       "      <th>8</th>\n",
       "      <td>3.264523e-09</td>\n",
       "    </tr>\n",
       "  </tbody>\n",
       "</table>\n",
       "</div>"
      ],
      "text/plain": [
       "              0\n",
       "0  3.032653e-01\n",
       "1  7.581633e-02\n",
       "2  1.263606e-02\n",
       "3  1.579507e-03\n",
       "4  1.579507e-04\n",
       "5  1.316256e-05\n",
       "6  9.401827e-07\n",
       "7  5.876142e-08\n",
       "8  3.264523e-09"
      ]
     },
     "execution_count": 6,
     "metadata": {},
     "output_type": "execute_result"
    }
   ],
   "source": [
    "dpois = pd.DataFrame(dp)\n",
    "dpois"
   ]
  },
  {
   "cell_type": "code",
   "execution_count": 7,
   "metadata": {},
   "outputs": [
    {
     "name": "stdout",
     "output_type": "stream",
     "text": [
      "[0.5, 1.0, 1.5, 2.0]\n",
      "[1 2 3 4 5 6 7 8 9]\n"
     ]
    }
   ],
   "source": [
    "#To do this for multiple mu values: \n",
    "\n",
    "# Enter the value of µ here:\n",
    "mu = [0.5, 1.0, 1.5, 2.0]\n",
    "print(mu)\n",
    "\n",
    "# Enter the values of y\n",
    "y = np.array(range(1,10))\n",
    "print(y)    "
   ]
  },
  {
   "cell_type": "code",
   "execution_count": 8,
   "metadata": {},
   "outputs": [],
   "source": [
    "# The function poisson.pmf(y, mu) returns the probabilities for all y values of the Poisson distribution:\n",
    "dpois_def = pd.DataFrame(list(y))\n",
    "count = 1\n",
    "for value in mu: \n",
    "    dp = poisson.pmf(y, value)\n",
    "    dpois = pd.DataFrame(dp)\n",
    "    if(value==0):\n",
    "        dpois_def = dpois\n",
    "        count += 1  \n",
    "    # for other rows, concat final with new2\n",
    "    else:\n",
    "        dpois_def.insert(count, value, dpois)\n",
    "        count += 1"
   ]
  },
  {
   "cell_type": "code",
   "execution_count": 9,
   "metadata": {},
   "outputs": [
    {
     "data": {
      "text/html": [
       "<div>\n",
       "<style scoped>\n",
       "    .dataframe tbody tr th:only-of-type {\n",
       "        vertical-align: middle;\n",
       "    }\n",
       "\n",
       "    .dataframe tbody tr th {\n",
       "        vertical-align: top;\n",
       "    }\n",
       "\n",
       "    .dataframe thead th {\n",
       "        text-align: right;\n",
       "    }\n",
       "</style>\n",
       "<table border=\"1\" class=\"dataframe\">\n",
       "  <thead>\n",
       "    <tr style=\"text-align: right;\">\n",
       "      <th></th>\n",
       "      <th>0.0</th>\n",
       "      <th>0.5</th>\n",
       "      <th>1.0</th>\n",
       "      <th>1.5</th>\n",
       "      <th>2.0</th>\n",
       "    </tr>\n",
       "  </thead>\n",
       "  <tbody>\n",
       "    <tr>\n",
       "      <th>0</th>\n",
       "      <td>1</td>\n",
       "      <td>3.032653e-01</td>\n",
       "      <td>0.367879</td>\n",
       "      <td>0.334695</td>\n",
       "      <td>0.270671</td>\n",
       "    </tr>\n",
       "    <tr>\n",
       "      <th>1</th>\n",
       "      <td>2</td>\n",
       "      <td>7.581633e-02</td>\n",
       "      <td>0.183940</td>\n",
       "      <td>0.251021</td>\n",
       "      <td>0.270671</td>\n",
       "    </tr>\n",
       "    <tr>\n",
       "      <th>2</th>\n",
       "      <td>3</td>\n",
       "      <td>1.263606e-02</td>\n",
       "      <td>0.061313</td>\n",
       "      <td>0.125511</td>\n",
       "      <td>0.180447</td>\n",
       "    </tr>\n",
       "    <tr>\n",
       "      <th>3</th>\n",
       "      <td>4</td>\n",
       "      <td>1.579507e-03</td>\n",
       "      <td>0.015328</td>\n",
       "      <td>0.047067</td>\n",
       "      <td>0.090224</td>\n",
       "    </tr>\n",
       "    <tr>\n",
       "      <th>4</th>\n",
       "      <td>5</td>\n",
       "      <td>1.579507e-04</td>\n",
       "      <td>0.003066</td>\n",
       "      <td>0.014120</td>\n",
       "      <td>0.036089</td>\n",
       "    </tr>\n",
       "    <tr>\n",
       "      <th>5</th>\n",
       "      <td>6</td>\n",
       "      <td>1.316256e-05</td>\n",
       "      <td>0.000511</td>\n",
       "      <td>0.003530</td>\n",
       "      <td>0.012030</td>\n",
       "    </tr>\n",
       "    <tr>\n",
       "      <th>6</th>\n",
       "      <td>7</td>\n",
       "      <td>9.401827e-07</td>\n",
       "      <td>0.000073</td>\n",
       "      <td>0.000756</td>\n",
       "      <td>0.003437</td>\n",
       "    </tr>\n",
       "    <tr>\n",
       "      <th>7</th>\n",
       "      <td>8</td>\n",
       "      <td>5.876142e-08</td>\n",
       "      <td>0.000009</td>\n",
       "      <td>0.000142</td>\n",
       "      <td>0.000859</td>\n",
       "    </tr>\n",
       "    <tr>\n",
       "      <th>8</th>\n",
       "      <td>9</td>\n",
       "      <td>3.264523e-09</td>\n",
       "      <td>0.000001</td>\n",
       "      <td>0.000024</td>\n",
       "      <td>0.000191</td>\n",
       "    </tr>\n",
       "  </tbody>\n",
       "</table>\n",
       "</div>"
      ],
      "text/plain": [
       "   0.0           0.5       1.0       1.5       2.0\n",
       "0    1  3.032653e-01  0.367879  0.334695  0.270671\n",
       "1    2  7.581633e-02  0.183940  0.251021  0.270671\n",
       "2    3  1.263606e-02  0.061313  0.125511  0.180447\n",
       "3    4  1.579507e-03  0.015328  0.047067  0.090224\n",
       "4    5  1.579507e-04  0.003066  0.014120  0.036089\n",
       "5    6  1.316256e-05  0.000511  0.003530  0.012030\n",
       "6    7  9.401827e-07  0.000073  0.000756  0.003437\n",
       "7    8  5.876142e-08  0.000009  0.000142  0.000859\n",
       "8    9  3.264523e-09  0.000001  0.000024  0.000191"
      ]
     },
     "execution_count": 9,
     "metadata": {},
     "output_type": "execute_result"
    }
   ],
   "source": [
    "dpois_def"
   ]
  },
  {
   "cell_type": "code",
   "execution_count": 10,
   "metadata": {},
   "outputs": [],
   "source": [
    "#Let's clean up the dataframe to show only the first three digits.\n",
    "\n",
    "dpois_def = dpois_def.round(3)\n",
    "\n",
    "#also let's rename the first column to 'y' \n",
    "dpois_def = dpois_def.rename(columns = {0.0 :'y-value'})"
   ]
  },
  {
   "cell_type": "code",
   "execution_count": 12,
   "metadata": {},
   "outputs": [
    {
     "data": {
      "text/html": [
       "<div>\n",
       "<style scoped>\n",
       "    .dataframe tbody tr th:only-of-type {\n",
       "        vertical-align: middle;\n",
       "    }\n",
       "\n",
       "    .dataframe tbody tr th {\n",
       "        vertical-align: top;\n",
       "    }\n",
       "\n",
       "    .dataframe thead th {\n",
       "        text-align: right;\n",
       "    }\n",
       "</style>\n",
       "<table border=\"1\" class=\"dataframe\">\n",
       "  <thead>\n",
       "    <tr style=\"text-align: right;\">\n",
       "      <th></th>\n",
       "      <th>0.5</th>\n",
       "      <th>1.0</th>\n",
       "      <th>1.5</th>\n",
       "      <th>2.0</th>\n",
       "    </tr>\n",
       "    <tr>\n",
       "      <th>y-value</th>\n",
       "      <th></th>\n",
       "      <th></th>\n",
       "      <th></th>\n",
       "      <th></th>\n",
       "    </tr>\n",
       "  </thead>\n",
       "  <tbody>\n",
       "    <tr>\n",
       "      <th>1</th>\n",
       "      <td>0.303</td>\n",
       "      <td>0.368</td>\n",
       "      <td>0.335</td>\n",
       "      <td>0.271</td>\n",
       "    </tr>\n",
       "    <tr>\n",
       "      <th>2</th>\n",
       "      <td>0.076</td>\n",
       "      <td>0.184</td>\n",
       "      <td>0.251</td>\n",
       "      <td>0.271</td>\n",
       "    </tr>\n",
       "    <tr>\n",
       "      <th>3</th>\n",
       "      <td>0.013</td>\n",
       "      <td>0.061</td>\n",
       "      <td>0.126</td>\n",
       "      <td>0.180</td>\n",
       "    </tr>\n",
       "    <tr>\n",
       "      <th>4</th>\n",
       "      <td>0.002</td>\n",
       "      <td>0.015</td>\n",
       "      <td>0.047</td>\n",
       "      <td>0.090</td>\n",
       "    </tr>\n",
       "    <tr>\n",
       "      <th>5</th>\n",
       "      <td>0.000</td>\n",
       "      <td>0.003</td>\n",
       "      <td>0.014</td>\n",
       "      <td>0.036</td>\n",
       "    </tr>\n",
       "    <tr>\n",
       "      <th>6</th>\n",
       "      <td>0.000</td>\n",
       "      <td>0.001</td>\n",
       "      <td>0.004</td>\n",
       "      <td>0.012</td>\n",
       "    </tr>\n",
       "    <tr>\n",
       "      <th>7</th>\n",
       "      <td>0.000</td>\n",
       "      <td>0.000</td>\n",
       "      <td>0.001</td>\n",
       "      <td>0.003</td>\n",
       "    </tr>\n",
       "    <tr>\n",
       "      <th>8</th>\n",
       "      <td>0.000</td>\n",
       "      <td>0.000</td>\n",
       "      <td>0.000</td>\n",
       "      <td>0.001</td>\n",
       "    </tr>\n",
       "    <tr>\n",
       "      <th>9</th>\n",
       "      <td>0.000</td>\n",
       "      <td>0.000</td>\n",
       "      <td>0.000</td>\n",
       "      <td>0.000</td>\n",
       "    </tr>\n",
       "  </tbody>\n",
       "</table>\n",
       "</div>"
      ],
      "text/plain": [
       "           0.5    1.0    1.5    2.0\n",
       "y-value                            \n",
       "1        0.303  0.368  0.335  0.271\n",
       "2        0.076  0.184  0.251  0.271\n",
       "3        0.013  0.061  0.126  0.180\n",
       "4        0.002  0.015  0.047  0.090\n",
       "5        0.000  0.003  0.014  0.036\n",
       "6        0.000  0.001  0.004  0.012\n",
       "7        0.000  0.000  0.001  0.003\n",
       "8        0.000  0.000  0.000  0.001\n",
       "9        0.000  0.000  0.000  0.000"
      ]
     },
     "execution_count": 12,
     "metadata": {},
     "output_type": "execute_result"
    }
   ],
   "source": [
    "#let's reset the index to the y-value, to make it more clear.\n",
    "dpois_def = dpois_def.set_index('y-value')\n",
    "dpois_def"
   ]
  },
  {
   "cell_type": "code",
   "execution_count": null,
   "metadata": {},
   "outputs": [],
   "source": []
  }
 ],
 "metadata": {
  "kernelspec": {
   "display_name": "Python 3",
   "language": "python",
   "name": "python3"
  },
  "language_info": {
   "codemirror_mode": {
    "name": "ipython",
    "version": 3
   },
   "file_extension": ".py",
   "mimetype": "text/x-python",
   "name": "python",
   "nbconvert_exporter": "python",
   "pygments_lexer": "ipython3",
   "version": "3.7.3"
  }
 },
 "nbformat": 4,
 "nbformat_minor": 2
}
