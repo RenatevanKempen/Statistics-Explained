{
 "cells": [
  {
   "cell_type": "code",
   "execution_count": 1,
   "metadata": {},
   "outputs": [
    {
     "name": "stdout",
     "output_type": "stream",
     "text": [
      "Collecting latex\n",
      "  Downloading https://files.pythonhosted.org/packages/e3/f3/c2562ee509faadaaf4f9d5b9491de146c6522ed2843dcecfd4f8e1a72f1d/latex-0.7.0.tar.gz\n",
      "Collecting tempdir (from latex)\n",
      "  Downloading https://files.pythonhosted.org/packages/dd/b2/b931869a9f9ad9fa14deecbcfc28e514b0755f8b904d9fe48864951b1a60/tempdir-0.7.1.tar.gz\n",
      "Collecting data (from latex)\n",
      "  Downloading https://files.pythonhosted.org/packages/ed/e9/623be82fac4250fc614741f5b1ead83d339794f94b19ac8665b6ea12ee05/data-0.4.tar.gz\n",
      "Requirement already satisfied: future in c:\\users\\renate\\anaconda3\\anaconda\\lib\\site-packages (from latex) (0.17.1)\n",
      "Collecting shutilwhich (from latex)\n",
      "  Downloading https://files.pythonhosted.org/packages/66/be/783f181594bb8bcfde174d6cd1e41956b986d0d8d337d535eb2555b92f8d/shutilwhich-1.1.0.tar.gz\n",
      "Requirement already satisfied: six in c:\\users\\renate\\anaconda3\\anaconda\\lib\\site-packages (from data->latex) (1.12.0)\n",
      "Requirement already satisfied: decorator in c:\\users\\renate\\anaconda3\\anaconda\\lib\\site-packages (from data->latex) (4.4.0)\n",
      "Collecting funcsigs (from data->latex)\n",
      "  Downloading https://files.pythonhosted.org/packages/69/cb/f5be453359271714c01b9bd06126eaf2e368f1fddfff30818754b5ac2328/funcsigs-1.0.2-py2.py3-none-any.whl\n",
      "Building wheels for collected packages: latex, tempdir, data, shutilwhich\n",
      "  Building wheel for latex (setup.py): started\n",
      "  Building wheel for latex (setup.py): finished with status 'done'\n",
      "  Stored in directory: C:\\Users\\Renate\\AppData\\Local\\pip\\Cache\\wheels\\a5\\00\\74\\5aed853dec3fbc45e9c9cf4949f664f1bd8b6f3e6def432019\n",
      "  Building wheel for tempdir (setup.py): started\n",
      "  Building wheel for tempdir (setup.py): finished with status 'done'\n",
      "  Stored in directory: C:\\Users\\Renate\\AppData\\Local\\pip\\Cache\\wheels\\7b\\f2\\40\\6806964a69dfe3e46eff51b06a9a036af80b933479536fa295\n",
      "  Building wheel for data (setup.py): started\n",
      "  Building wheel for data (setup.py): finished with status 'done'\n",
      "  Stored in directory: C:\\Users\\Renate\\AppData\\Local\\pip\\Cache\\wheels\\f6\\09\\e5\\5afbc45fb0de471541092c7cd8b48d3483be68b1890955e6b9\n",
      "  Building wheel for shutilwhich (setup.py): started\n",
      "  Building wheel for shutilwhich (setup.py): finished with status 'done'\n",
      "  Stored in directory: C:\\Users\\Renate\\AppData\\Local\\pip\\Cache\\wheels\\05\\ef\\eb\\27a815601fa45bbb0301dae456f0853700502233b801fe4bb1\n",
      "Successfully built latex tempdir data shutilwhich\n",
      "Installing collected packages: tempdir, funcsigs, data, shutilwhich, latex\n",
      "Successfully installed data-0.4 funcsigs-1.0.2 latex-0.7.0 shutilwhich-1.1.0 tempdir-0.7.1\n"
     ]
    }
   ],
   "source": [
    "!pip install latex"
   ]
  },
  {
   "cell_type": "code",
   "execution_count": 2,
   "metadata": {},
   "outputs": [],
   "source": [
    "import latex"
   ]
  },
  {
   "cell_type": "raw",
   "metadata": {},
   "source": [
    "If I want to write down the Alpha sign, I need to write $$\\alpha$$"
   ]
  },
  {
   "cell_type": "markdown",
   "metadata": {},
   "source": [
    "$$\\alpha = 0.05$$"
   ]
  },
  {
   "cell_type": "raw",
   "metadata": {},
   "source": [
    "If inline, write the formula between $ ... $\n",
    "If display, write the formula between $$ ... $$"
   ]
  },
  {
   "cell_type": "raw",
   "metadata": {},
   "source": [
    "Okay, let's write the Central Limit Theorem in a formula here, first in display mode"
   ]
  },
  {
   "cell_type": "markdown",
   "metadata": {},
   "source": [
    "$$\\bar y \\sim N\\left({\\mu_y}, \\frac{\\sigma_y}{\\sqrt n}\\right)$$"
   ]
  },
  {
   "cell_type": "raw",
   "metadata": {},
   "source": [
    "Now I'll write this in inline mode"
   ]
  },
  {
   "cell_type": "markdown",
   "metadata": {},
   "source": [
    "This is the Central Limit Theorem: $\\bar y \\sim N\\left({\\mu_y}, \\frac{\\sigma_y}{\\sqrt n}\\right)$"
   ]
  },
  {
   "cell_type": "raw",
   "metadata": {},
   "source": [
    "Okay, let's continue with the sum of the Central Limit Theorum"
   ]
  },
  {
   "cell_type": "markdown",
   "metadata": {},
   "source": [
    "$$\\sum y \\sim N\\left({n\\mu_y}, {\\sqrt n}\\cdot{\\sigma_y}\\right)$$"
   ]
  },
  {
   "cell_type": "markdown",
   "metadata": {},
   "source": [
    "## **Exercise 1**"
   ]
  },
  {
   "cell_type": "markdown",
   "metadata": {},
   "source": [
    "Let's start with an exercise (#4.85 in the book from Ott&Longnecker, p.255): "
   ]
  },
  {
   "cell_type": "markdown",
   "metadata": {},
   "source": [
    "The baggage limit for an airplane is set at 100 pounds per passenger. \n",
    "Thus, for an airplane with 200 passenger seats, there would be a limit of \n",
    "20.000 pounds. The weight of the baggage of an individual passenger is \n",
    "a random variable with a mean of 95 pounds and a standard deviation \n",
    "of 35 pounds. If all 200 seats are sold for a particular flight, what is the \n",
    "probability that the total weight of the passengers' baggage will exceed\n",
    "the 20.000 pound limit?"
   ]
  },
  {
   "cell_type": "markdown",
   "metadata": {},
   "source": [
    "-------------------------------------------------------------------------------------------------------------"
   ]
  },
  {
   "cell_type": "markdown",
   "metadata": {},
   "source": [
    "## **Answer E1**"
   ]
  },
  {
   "cell_type": "markdown",
   "metadata": {},
   "source": [
    "y = the weight of the baggage of an individual passenger"
   ]
  },
  {
   "cell_type": "markdown",
   "metadata": {},
   "source": [
    "w = the sum of all y-values $\\sum_i^{200}  y_i = y_1 + \\cdots + y_{200}$"
   ]
  },
  {
   "cell_type": "markdown",
   "metadata": {},
   "source": [
    "w $\\sim_{approx} N\\left({\\mu_w},{\\sigma_w}\\right)$ = $N({95x200}, {\\sqrt{200}\\cdot{35}})$ = $N({19000}, {494.97})$"
   ]
  },
  {
   "cell_type": "markdown",
   "metadata": {},
   "source": [
    "P = probability\n",
    "$P(w > 20000)$ = $1 - P(w > 20000)$ = $1 - P(w <= 20000)$"
   ]
  },
  {
   "cell_type": "markdown",
   "metadata": {},
   "source": [
    "## Exercise 2"
   ]
  },
  {
   "cell_type": "markdown",
   "metadata": {},
   "source": [
    "Next, we will compute the CLT of the example on page 198 in the book from Ott & Longnecker.\n",
    "\n",
    "A person visits her doctor with concerns about her blood pressure. If the systolic blood pressure exceeds 150, the patient is considered to have high blood pressure and medication may be prescribed. A patient's blood pressure readings often have a considerable variation during a given day. Suppose a patient's systolic blood pressure readings during a given day have a normal distribution with a mean of $\\mu$ = 160 mm mercury and a standard deviation $\\sigma$ = 20 mm"
   ]
  },
  {
   "cell_type": "markdown",
   "metadata": {},
   "source": [
    "### a. question:\n",
    "What is the prbability that a single blood pressure measurement will fail to dectect that the patient has high blood pressure? "
   ]
  },
  {
   "cell_type": "markdown",
   "metadata": {},
   "source": [
    "### a. answer:\n",
    "\n",
    "$P$(measurement fails to detect high pressure) = \n",
    "$P(y \\leqq 150) = $\n",
    "$P(z \\leqq \\frac{(150-160)}{20}) = $\n",
    "$p(Z \\leqq -0.5) = .3805$"
   ]
  },
  {
   "cell_type": "markdown",
   "metadata": {},
   "source": [
    "Thus, the chance of failing to detect the that patient has a high blood pressure if only a single measurement is taken is over 30%. (too high)"
   ]
  },
  {
   "cell_type": "markdown",
   "metadata": {},
   "source": [
    "### b. question: \n",
    "If five blood pressure measuments are taken at various times during the day, what is the probability that the average of the five measurements will be less than 150 and hence fail to indicate that the patient has high blood pressure? "
   ]
  },
  {
   "cell_type": "markdown",
   "metadata": {},
   "source": [
    "### b. answer:\n",
    "\n",
    "let $ \\bar y$ be the average blood pressure of the five measurements. Then $\\bar y$ has a normal distribution with $\\mu $ = 160 and $\\sigma = 20$ /$ \\sqrt {5} $ = 8.944"
   ]
  },
  {
   "cell_type": "code",
   "execution_count": 1,
   "metadata": {},
   "outputs": [
    {
     "name": "stdout",
     "output_type": "stream",
     "text": [
      "2.23606797749979\n"
     ]
    }
   ],
   "source": [
    "import math\n",
    "x = math.sqrt(5)\n",
    "print(x)"
   ]
  },
  {
   "cell_type": "code",
   "execution_count": 2,
   "metadata": {},
   "outputs": [
    {
     "name": "stdout",
     "output_type": "stream",
     "text": [
      "8.94427190999916\n"
     ]
    }
   ],
   "source": [
    "i = 20 \n",
    "print(i/x)"
   ]
  },
  {
   "cell_type": "markdown",
   "metadata": {},
   "source": [
    "$P(\\bar y \\leqq 150) = $\n",
    "$P(z \\leqq \\frac{(150-160)}{8.944}) = $\n",
    "$P(z \\leqq -1.12) = .1314$"
   ]
  },
  {
   "cell_type": "code",
   "execution_count": 4,
   "metadata": {},
   "outputs": [
    {
     "data": {
      "text/plain": [
       "0.1313568810427307"
      ]
     },
     "execution_count": 4,
     "metadata": {},
     "output_type": "execute_result"
    }
   ],
   "source": [
    "#Same calculation with scipy\n",
    "from scipy.stats import norm\n",
    "norm.cdf(-1.12)"
   ]
  },
  {
   "cell_type": "markdown",
   "metadata": {},
   "source": [
    "Therefore, by using the average of five measurements, the chance of failing to detect the patient has high blood pressure has been reduced from over 30% to about 13%. "
   ]
  },
  {
   "cell_type": "markdown",
   "metadata": {},
   "source": [
    "### c. question:\n",
    "How many measurements would be required in a given day so that there is at most 1% probability of failing to detect that the patient has high blood pressure? "
   ]
  },
  {
   "cell_type": "markdown",
   "metadata": {},
   "source": [
    "### c. answer:\n",
    "We need to determine the sample size $n$ such that $P(\\bar y < 150)\\leqq 0.01$"
   ]
  },
  {
   "cell_type": "markdown",
   "metadata": {},
   "source": [
    "first let's calculate $z$"
   ]
  },
  {
   "cell_type": "code",
   "execution_count": 3,
   "metadata": {},
   "outputs": [
    {
     "data": {
      "text/plain": [
       "-2.3263478740408408"
      ]
     },
     "execution_count": 3,
     "metadata": {},
     "output_type": "execute_result"
    }
   ],
   "source": [
    "from scipy.stats import norm\n",
    "norm.ppf(0.01)"
   ]
  },
  {
   "cell_type": "markdown",
   "metadata": {},
   "source": [
    "Ok, so now we know that the solution is -2.326"
   ]
  },
  {
   "cell_type": "markdown",
   "metadata": {},
   "source": [
    "Therefore $\\frac{150 - 160}{20/\\sqrt n} = -2.326$\n",
    "\n",
    "Solving for $n$ yiels $\\sqrt n = \\frac{(-2.326)(20)}{-10} $\n",
    "$n = 21.64$\n",
    "\n",
    "#### Conclusion: \n",
    "It would take at least 22 measurements in order to achieve the goal of at most a 1% chance of failing to detect high blood pressure."
   ]
  },
  {
   "cell_type": "code",
   "execution_count": null,
   "metadata": {},
   "outputs": [],
   "source": []
  }
 ],
 "metadata": {
  "kernelspec": {
   "display_name": "Python 3",
   "language": "python",
   "name": "python3"
  },
  "language_info": {
   "codemirror_mode": {
    "name": "ipython",
    "version": 3
   },
   "file_extension": ".py",
   "mimetype": "text/x-python",
   "name": "python",
   "nbconvert_exporter": "python",
   "pygments_lexer": "ipython3",
   "version": "3.7.3"
  }
 },
 "nbformat": 4,
 "nbformat_minor": 2
}
