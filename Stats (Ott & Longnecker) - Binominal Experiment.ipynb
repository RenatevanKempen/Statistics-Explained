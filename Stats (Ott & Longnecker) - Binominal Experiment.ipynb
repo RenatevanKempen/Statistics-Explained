{
 "cells": [
  {
   "cell_type": "code",
   "execution_count": 9,
   "metadata": {},
   "outputs": [],
   "source": [
    "import scipy.stats\n",
    "from scipy.stats import binom\n",
    "import latex"
   ]
  },
  {
   "cell_type": "markdown",
   "metadata": {},
   "source": [
    "# Binominal experiment\n",
    "\n",
    "## Five characteristics:\n",
    "- The experiment consists of n identical trials\n",
    "- Each trial results in one of two outcomes. We will label one outcome a success and the other a failure. \n",
    "- The probability of success on a single trial is equal to \\pi and \\pi remains the same from trial to trial. \n",
    "- The trials are independent: that is, the outcome of one trial does not influence the outcome of another trial\n",
    "- The random variable y is the number of successes observed during the n trials. \n",
    "\n",
    "Formula: $P\\left(y\\right)$ =$\\frac{n!}{y!(n-y)!}\\pi^y\\left(1-\\pi\\right)^{n-y}$ \n",
    "\n",
    "where:\n",
    "- $n$ = number of trials\n",
    "- $\\pi$ = probability of success on a single trial\n",
    "- $1-\\ \\pi$ = probability of failure on a single trial\n",
    "- $y$ = number of successes in n trials\n",
    "- $n!$ = $n(n-1)(n-2)... (3)(2)(1)$\n",
    "\n",
    "$n!$  = n factorial, if n = 4, than 4! = (4)(3)(2)(1) = 24. Note that 0! is equal to 1. \n",
    "\n"
   ]
  },
  {
   "cell_type": "markdown",
   "metadata": {},
   "source": [
    "## Assignment:\n",
    "\n",
    "A new variety of turf grass has been developped for use on golf courses, with the goal of obtaining a germination of 85%. \n",
    "\n",
    "To evaluate the grass, 20 seeds are planted in a greenhouse so that each seed will be exposed to identical solutions. If the 85% germination rate is correct, what is the probability that 18 or more of the 20 seeds will germinate?"
   ]
  },
  {
   "cell_type": "markdown",
   "metadata": {},
   "source": [
    "## Solution: \n",
    "\n",
    "First, let me explain this via the solution by hand. \n",
    "Than, we can use the python code (via scipy.stats) to calculate the same. \n",
    "\n",
    "Subsituting the formula for $n$ = 20, $\\pi$ = .85 and $y$ = 18, 19 and 20, we obtain:\n",
    "\n",
    "- $P({y = 18})$ = $\\frac{20!}{18!(20-18)!}$ ${.85}^{18}(1 - {.85}^{20-18} $ = $190({.85})^{18}({.15})^2 = .229$\n",
    "- $P({y = 19})$ = $\\frac{20!}{19!(20-19)!}$ ${.85}^{19}(1 - {.85}^{20-19} $ = $20({.85})^{19}({.15})^1 = .137$\n",
    "- $P({y = 20})$ = $\\frac{20!}{20!(20-20)!}$ ${.85}^{20}(1 - {.85}^{20-20} $ = $({.85})^{20} = .0388$\n",
    "- $P({y \\geq 18}) = P(y = 18) + P(y - 19) + P(y = 20) = 0.405$"
   ]
  },
  {
   "cell_type": "markdown",
   "metadata": {},
   "source": [
    "Now, let's use Python Scipy.Stats package to get this solution"
   ]
  },
  {
   "cell_type": "code",
   "execution_count": 11,
   "metadata": {},
   "outputs": [
    {
     "data": {
      "text/plain": [
       "0.22933840191875257"
      ]
     },
     "execution_count": 11,
     "metadata": {},
     "output_type": "execute_result"
    }
   ],
   "source": [
    "# P(X = 18) - this is the first code line in the above calculation\n",
    "binom.pmf (18, 20, 0.85)"
   ]
  },
  {
   "cell_type": "code",
   "execution_count": 8,
   "metadata": {},
   "outputs": [
    {
     "data": {
      "text/plain": [
       "0.4048962780074351"
      ]
     },
     "execution_count": 8,
     "metadata": {},
     "output_type": "execute_result"
    }
   ],
   "source": [
    "# P(X ≥ 18) (This is the last line in one code)\n",
    "1- binom.cdf(17,20,.85)"
   ]
  },
  {
   "cell_type": "code",
   "execution_count": 7,
   "metadata": {},
   "outputs": [
    {
     "data": {
      "text/plain": [
       "0.5951037219925649"
      ]
     },
     "execution_count": 7,
     "metadata": {},
     "output_type": "execute_result"
    }
   ],
   "source": [
    "# P (X ≤ 17) (This is to compute the probability that 17 or less seeds will germinate)\n",
    "# additional information for you if you want to use this in the future\n",
    "binom.cdf(17,20,.85)"
   ]
  }
 ],
 "metadata": {
  "kernelspec": {
   "display_name": "Python 3",
   "language": "python",
   "name": "python3"
  },
  "language_info": {
   "codemirror_mode": {
    "name": "ipython",
    "version": 3
   },
   "file_extension": ".py",
   "mimetype": "text/x-python",
   "name": "python",
   "nbconvert_exporter": "python",
   "pygments_lexer": "ipython3",
   "version": "3.7.3"
  }
 },
 "nbformat": 4,
 "nbformat_minor": 2
}
